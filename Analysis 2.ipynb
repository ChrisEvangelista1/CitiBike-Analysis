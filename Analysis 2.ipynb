{
 "cells": [
  {
   "cell_type": "code",
   "execution_count": 1,
   "id": "68001367-bf6e-4019-a154-44f6b5c41645",
   "metadata": {},
   "outputs": [],
   "source": [
    "import pandas as pd\n",
    "import numpy as np\n",
    "import plotly.express as px\n",
    "from plotly.subplots import make_subplots\n",
    "import plotly.graph_objects as go\n",
    "import matplotlib.pyplot as plt\n",
    "from datetime import datetime as dt\n",
    "import streamlit as st\n",
    "from streamlit_keplergl import keplergl_static\n",
    "import seaborn as sns\n",
    "import matplotlib.pyplot as plt"
   ]
  },
  {
   "cell_type": "code",
   "execution_count": 2,
   "id": "abac4e9a-5cad-4fa2-aeea-e9500492362e",
   "metadata": {},
   "outputs": [],
   "source": [
    "data = pd.read_parquet(\"2022_Citibike_Dataset.parquet\", engine = \"pyarrow\")"
   ]
  },
  {
   "cell_type": "code",
   "execution_count": 3,
   "id": "7ae294ec-ff06-4775-95df-806a394681e6",
   "metadata": {
    "scrolled": true
   },
   "outputs": [
    {
     "data": {
      "text/html": [
       "<div>\n",
       "<style scoped>\n",
       "    .dataframe tbody tr th:only-of-type {\n",
       "        vertical-align: middle;\n",
       "    }\n",
       "\n",
       "    .dataframe tbody tr th {\n",
       "        vertical-align: top;\n",
       "    }\n",
       "\n",
       "    .dataframe thead th {\n",
       "        text-align: right;\n",
       "    }\n",
       "</style>\n",
       "<table border=\"1\" class=\"dataframe\">\n",
       "  <thead>\n",
       "    <tr style=\"text-align: right;\">\n",
       "      <th></th>\n",
       "      <th>ride_id</th>\n",
       "      <th>rideable_type</th>\n",
       "      <th>started_at</th>\n",
       "      <th>ended_at</th>\n",
       "      <th>start_station_name</th>\n",
       "      <th>start_station_id</th>\n",
       "      <th>end_station_name</th>\n",
       "      <th>end_station_id</th>\n",
       "      <th>start_lat</th>\n",
       "      <th>start_lng</th>\n",
       "      <th>end_lat</th>\n",
       "      <th>end_lng</th>\n",
       "      <th>member_casual</th>\n",
       "      <th>source</th>\n",
       "      <th>avgTempCelsius</th>\n",
       "    </tr>\n",
       "  </thead>\n",
       "  <tbody>\n",
       "    <tr>\n",
       "      <th>0</th>\n",
       "      <td>BFD29218AB271154</td>\n",
       "      <td>electric_bike</td>\n",
       "      <td>2022-01-21 13:13:43.392</td>\n",
       "      <td>2022-01-21 13:22:31.463</td>\n",
       "      <td>West End Ave &amp; W 107 St</td>\n",
       "      <td>7650.05</td>\n",
       "      <td>Mt Morris Park W &amp; W 120 St</td>\n",
       "      <td>7685.14</td>\n",
       "      <td>40.802117</td>\n",
       "      <td>-73.968181</td>\n",
       "      <td>40.804038</td>\n",
       "      <td>-73.945925</td>\n",
       "      <td>member</td>\n",
       "      <td>202201-citibike-tripdata_1</td>\n",
       "      <td>-6.0</td>\n",
       "    </tr>\n",
       "    <tr>\n",
       "      <th>1</th>\n",
       "      <td>7C953F2FD7BE1302</td>\n",
       "      <td>classic_bike</td>\n",
       "      <td>2022-01-10 11:30:54.162</td>\n",
       "      <td>2022-01-10 11:41:43.422</td>\n",
       "      <td>4 Ave &amp; 3 St</td>\n",
       "      <td>4028.04</td>\n",
       "      <td>Boerum Pl\\t&amp; Pacific St</td>\n",
       "      <td>4488.09</td>\n",
       "      <td>40.673746</td>\n",
       "      <td>-73.985649</td>\n",
       "      <td>40.688489</td>\n",
       "      <td>-73.991160</td>\n",
       "      <td>member</td>\n",
       "      <td>202201-citibike-tripdata_1</td>\n",
       "      <td>1.6</td>\n",
       "    </tr>\n",
       "    <tr>\n",
       "      <th>2</th>\n",
       "      <td>95893ABD40CED4B8</td>\n",
       "      <td>electric_bike</td>\n",
       "      <td>2022-01-26 10:52:43.096</td>\n",
       "      <td>2022-01-26 11:06:35.227</td>\n",
       "      <td>1 Ave &amp; E 62 St</td>\n",
       "      <td>6753.08</td>\n",
       "      <td>5 Ave &amp; E 29 St</td>\n",
       "      <td>6248.06</td>\n",
       "      <td>40.761227</td>\n",
       "      <td>-73.960940</td>\n",
       "      <td>40.745168</td>\n",
       "      <td>-73.986831</td>\n",
       "      <td>member</td>\n",
       "      <td>202201-citibike-tripdata_1</td>\n",
       "      <td>-2.3</td>\n",
       "    </tr>\n",
       "    <tr>\n",
       "      <th>3</th>\n",
       "      <td>F853B50772137378</td>\n",
       "      <td>classic_bike</td>\n",
       "      <td>2022-01-03 08:35:48.247</td>\n",
       "      <td>2022-01-03 09:10:50.475</td>\n",
       "      <td>2 Ave &amp; E 96 St</td>\n",
       "      <td>7338.02</td>\n",
       "      <td>5 Ave &amp; E 29 St</td>\n",
       "      <td>6248.06</td>\n",
       "      <td>40.783964</td>\n",
       "      <td>-73.947167</td>\n",
       "      <td>40.745168</td>\n",
       "      <td>-73.986831</td>\n",
       "      <td>member</td>\n",
       "      <td>202201-citibike-tripdata_1</td>\n",
       "      <td>1.4</td>\n",
       "    </tr>\n",
       "    <tr>\n",
       "      <th>4</th>\n",
       "      <td>7590ADF834797B4B</td>\n",
       "      <td>classic_bike</td>\n",
       "      <td>2022-01-22 14:14:23.043</td>\n",
       "      <td>2022-01-22 14:34:57.474</td>\n",
       "      <td>6 Ave &amp; W 34 St</td>\n",
       "      <td>6364.10</td>\n",
       "      <td>5 Ave &amp; E 29 St</td>\n",
       "      <td>6248.06</td>\n",
       "      <td>40.749640</td>\n",
       "      <td>-73.988050</td>\n",
       "      <td>40.745168</td>\n",
       "      <td>-73.986831</td>\n",
       "      <td>member</td>\n",
       "      <td>202201-citibike-tripdata_1</td>\n",
       "      <td>-5.9</td>\n",
       "    </tr>\n",
       "    <tr>\n",
       "      <th>...</th>\n",
       "      <td>...</td>\n",
       "      <td>...</td>\n",
       "      <td>...</td>\n",
       "      <td>...</td>\n",
       "      <td>...</td>\n",
       "      <td>...</td>\n",
       "      <td>...</td>\n",
       "      <td>...</td>\n",
       "      <td>...</td>\n",
       "      <td>...</td>\n",
       "      <td>...</td>\n",
       "      <td>...</td>\n",
       "      <td>...</td>\n",
       "      <td>...</td>\n",
       "      <td>...</td>\n",
       "    </tr>\n",
       "    <tr>\n",
       "      <th>29838801</th>\n",
       "      <td>1F223EDAFF420AE3</td>\n",
       "      <td>electric_bike</td>\n",
       "      <td>2022-12-01 20:26:45.847</td>\n",
       "      <td>2022-12-01 20:30:46.012</td>\n",
       "      <td>Avenue D &amp; E 3 St</td>\n",
       "      <td>5436.09</td>\n",
       "      <td>Stanton St &amp; Chrystie St</td>\n",
       "      <td>5523.02</td>\n",
       "      <td>40.720701</td>\n",
       "      <td>-73.977939</td>\n",
       "      <td>40.722293</td>\n",
       "      <td>-73.991475</td>\n",
       "      <td>member</td>\n",
       "      <td>202212-citibike-tripdata_2</td>\n",
       "      <td>5.7</td>\n",
       "    </tr>\n",
       "    <tr>\n",
       "      <th>29838802</th>\n",
       "      <td>CFA5C560ACB73B8E</td>\n",
       "      <td>classic_bike</td>\n",
       "      <td>2022-12-26 13:46:34.237</td>\n",
       "      <td>2022-12-26 13:52:43.900</td>\n",
       "      <td>43 Ave &amp; 47 St</td>\n",
       "      <td>6209.05</td>\n",
       "      <td>39 Ave &amp; 45 St</td>\n",
       "      <td>6401.03</td>\n",
       "      <td>40.744806</td>\n",
       "      <td>-73.917290</td>\n",
       "      <td>40.749478</td>\n",
       "      <td>-73.918265</td>\n",
       "      <td>member</td>\n",
       "      <td>202212-citibike-tripdata_2</td>\n",
       "      <td>-4.7</td>\n",
       "    </tr>\n",
       "    <tr>\n",
       "      <th>29838803</th>\n",
       "      <td>11C8C5E0DB947B07</td>\n",
       "      <td>classic_bike</td>\n",
       "      <td>2022-12-01 05:56:14.903</td>\n",
       "      <td>2022-12-01 06:06:10.357</td>\n",
       "      <td>Avenue D &amp; E 3 St</td>\n",
       "      <td>5436.09</td>\n",
       "      <td>Bleecker St &amp; Crosby St</td>\n",
       "      <td>5679.08</td>\n",
       "      <td>40.720828</td>\n",
       "      <td>-73.977932</td>\n",
       "      <td>40.726156</td>\n",
       "      <td>-73.995102</td>\n",
       "      <td>member</td>\n",
       "      <td>202212-citibike-tripdata_2</td>\n",
       "      <td>5.7</td>\n",
       "    </tr>\n",
       "    <tr>\n",
       "      <th>29838804</th>\n",
       "      <td>5B9B083C534A5964</td>\n",
       "      <td>classic_bike</td>\n",
       "      <td>2022-12-02 11:54:15.871</td>\n",
       "      <td>2022-12-02 12:01:00.747</td>\n",
       "      <td>Montague St &amp; Clinton St</td>\n",
       "      <td>4677.06</td>\n",
       "      <td>Sands St &amp; Jay St</td>\n",
       "      <td>4821.03</td>\n",
       "      <td>40.694271</td>\n",
       "      <td>-73.992327</td>\n",
       "      <td>40.700119</td>\n",
       "      <td>-73.986200</td>\n",
       "      <td>member</td>\n",
       "      <td>202212-citibike-tripdata_2</td>\n",
       "      <td>3.4</td>\n",
       "    </tr>\n",
       "    <tr>\n",
       "      <th>29838805</th>\n",
       "      <td>91C286C462F89A50</td>\n",
       "      <td>classic_bike</td>\n",
       "      <td>2022-12-18 13:35:22.574</td>\n",
       "      <td>2022-12-18 13:37:27.193</td>\n",
       "      <td>Montague St &amp; Clinton St</td>\n",
       "      <td>4677.06</td>\n",
       "      <td>Cadman Plaza E &amp; Tillary St</td>\n",
       "      <td>4677.01</td>\n",
       "      <td>40.694271</td>\n",
       "      <td>-73.992327</td>\n",
       "      <td>40.695977</td>\n",
       "      <td>-73.990149</td>\n",
       "      <td>member</td>\n",
       "      <td>202212-citibike-tripdata_2</td>\n",
       "      <td>3.1</td>\n",
       "    </tr>\n",
       "  </tbody>\n",
       "</table>\n",
       "<p>29838806 rows × 15 columns</p>\n",
       "</div>"
      ],
      "text/plain": [
       "                   ride_id  rideable_type              started_at  \\\n",
       "0         BFD29218AB271154  electric_bike 2022-01-21 13:13:43.392   \n",
       "1         7C953F2FD7BE1302   classic_bike 2022-01-10 11:30:54.162   \n",
       "2         95893ABD40CED4B8  electric_bike 2022-01-26 10:52:43.096   \n",
       "3         F853B50772137378   classic_bike 2022-01-03 08:35:48.247   \n",
       "4         7590ADF834797B4B   classic_bike 2022-01-22 14:14:23.043   \n",
       "...                    ...            ...                     ...   \n",
       "29838801  1F223EDAFF420AE3  electric_bike 2022-12-01 20:26:45.847   \n",
       "29838802  CFA5C560ACB73B8E   classic_bike 2022-12-26 13:46:34.237   \n",
       "29838803  11C8C5E0DB947B07   classic_bike 2022-12-01 05:56:14.903   \n",
       "29838804  5B9B083C534A5964   classic_bike 2022-12-02 11:54:15.871   \n",
       "29838805  91C286C462F89A50   classic_bike 2022-12-18 13:35:22.574   \n",
       "\n",
       "                        ended_at        start_station_name  start_station_id  \\\n",
       "0        2022-01-21 13:22:31.463   West End Ave & W 107 St           7650.05   \n",
       "1        2022-01-10 11:41:43.422              4 Ave & 3 St           4028.04   \n",
       "2        2022-01-26 11:06:35.227           1 Ave & E 62 St           6753.08   \n",
       "3        2022-01-03 09:10:50.475           2 Ave & E 96 St           7338.02   \n",
       "4        2022-01-22 14:34:57.474           6 Ave & W 34 St           6364.10   \n",
       "...                          ...                       ...               ...   \n",
       "29838801 2022-12-01 20:30:46.012         Avenue D & E 3 St           5436.09   \n",
       "29838802 2022-12-26 13:52:43.900            43 Ave & 47 St           6209.05   \n",
       "29838803 2022-12-01 06:06:10.357         Avenue D & E 3 St           5436.09   \n",
       "29838804 2022-12-02 12:01:00.747  Montague St & Clinton St           4677.06   \n",
       "29838805 2022-12-18 13:37:27.193  Montague St & Clinton St           4677.06   \n",
       "\n",
       "                     end_station_name  end_station_id  start_lat  start_lng  \\\n",
       "0         Mt Morris Park W & W 120 St         7685.14  40.802117 -73.968181   \n",
       "1             Boerum Pl\\t& Pacific St         4488.09  40.673746 -73.985649   \n",
       "2                     5 Ave & E 29 St         6248.06  40.761227 -73.960940   \n",
       "3                     5 Ave & E 29 St         6248.06  40.783964 -73.947167   \n",
       "4                     5 Ave & E 29 St         6248.06  40.749640 -73.988050   \n",
       "...                               ...             ...        ...        ...   \n",
       "29838801     Stanton St & Chrystie St         5523.02  40.720701 -73.977939   \n",
       "29838802               39 Ave & 45 St         6401.03  40.744806 -73.917290   \n",
       "29838803      Bleecker St & Crosby St         5679.08  40.720828 -73.977932   \n",
       "29838804            Sands St & Jay St         4821.03  40.694271 -73.992327   \n",
       "29838805  Cadman Plaza E & Tillary St         4677.01  40.694271 -73.992327   \n",
       "\n",
       "            end_lat    end_lng member_casual                      source  \\\n",
       "0         40.804038 -73.945925        member  202201-citibike-tripdata_1   \n",
       "1         40.688489 -73.991160        member  202201-citibike-tripdata_1   \n",
       "2         40.745168 -73.986831        member  202201-citibike-tripdata_1   \n",
       "3         40.745168 -73.986831        member  202201-citibike-tripdata_1   \n",
       "4         40.745168 -73.986831        member  202201-citibike-tripdata_1   \n",
       "...             ...        ...           ...                         ...   \n",
       "29838801  40.722293 -73.991475        member  202212-citibike-tripdata_2   \n",
       "29838802  40.749478 -73.918265        member  202212-citibike-tripdata_2   \n",
       "29838803  40.726156 -73.995102        member  202212-citibike-tripdata_2   \n",
       "29838804  40.700119 -73.986200        member  202212-citibike-tripdata_2   \n",
       "29838805  40.695977 -73.990149        member  202212-citibike-tripdata_2   \n",
       "\n",
       "          avgTempCelsius  \n",
       "0                   -6.0  \n",
       "1                    1.6  \n",
       "2                   -2.3  \n",
       "3                    1.4  \n",
       "4                   -5.9  \n",
       "...                  ...  \n",
       "29838801             5.7  \n",
       "29838802            -4.7  \n",
       "29838803             5.7  \n",
       "29838804             3.4  \n",
       "29838805             3.1  \n",
       "\n",
       "[29838806 rows x 15 columns]"
      ]
     },
     "execution_count": 3,
     "metadata": {},
     "output_type": "execute_result"
    }
   ],
   "source": [
    "data"
   ]
  },
  {
   "cell_type": "code",
   "execution_count": 6,
   "id": "b1f995c2-4171-4413-b2b2-1da506f50186",
   "metadata": {},
   "outputs": [],
   "source": [
    "test = data.sample(frac = 0.01, random_state = 123)"
   ]
  },
  {
   "cell_type": "markdown",
   "id": "baab4ee6-2d9d-4c89-9d28-241e48de93a5",
   "metadata": {
    "jp-MarkdownHeadingCollapsed": true
   },
   "source": [
    "## Executive Summary & KPIs"
   ]
  },
  {
   "cell_type": "raw",
   "id": "801e234b-dd05-4f57-b0d1-3048f57f0701",
   "metadata": {},
   "source": [
    "Summary Card:\n",
    "1. Total Rides in 2022 vs 2021\n",
    "2. Average Ride Duration\n",
    "3. User Type\n",
    "4. Bike Type\n",
    "5. Rentals per day"
   ]
  },
  {
   "cell_type": "code",
   "execution_count": 4,
   "id": "892d5130-0b10-4ed8-af43-84dcb762c75a",
   "metadata": {},
   "outputs": [],
   "source": [
    "summary_data_2022 = pd.read_csv(r\"Data\\2022_summary_df.csv\")\n",
    "summary_data_2021 = pd.read_csv(r\"Data\\2021_summary_df.csv\")"
   ]
  },
  {
   "cell_type": "code",
   "execution_count": 12,
   "id": "79b09e5d-620e-4e05-b0eb-aca0d8535727",
   "metadata": {},
   "outputs": [
    {
     "data": {
      "text/html": [
       "<div>\n",
       "<style scoped>\n",
       "    .dataframe tbody tr th:only-of-type {\n",
       "        vertical-align: middle;\n",
       "    }\n",
       "\n",
       "    .dataframe tbody tr th {\n",
       "        vertical-align: top;\n",
       "    }\n",
       "\n",
       "    .dataframe thead th {\n",
       "        text-align: right;\n",
       "    }\n",
       "</style>\n",
       "<table border=\"1\" class=\"dataframe\">\n",
       "  <thead>\n",
       "    <tr style=\"text-align: right;\">\n",
       "      <th></th>\n",
       "      <th>rental_count</th>\n",
       "      <th>average_duration</th>\n",
       "      <th>member_perc</th>\n",
       "      <th>bike_type_perc</th>\n",
       "      <th>year</th>\n",
       "    </tr>\n",
       "  </thead>\n",
       "  <tbody>\n",
       "    <tr>\n",
       "      <th>0</th>\n",
       "      <td>29798394</td>\n",
       "      <td>15.485299</td>\n",
       "      <td>0.779798</td>\n",
       "      <td>0.393368</td>\n",
       "      <td>2022</td>\n",
       "    </tr>\n",
       "    <tr>\n",
       "      <th>0</th>\n",
       "      <td>27104739</td>\n",
       "      <td>16.409179</td>\n",
       "      <td>0.732531</td>\n",
       "      <td>0.318306</td>\n",
       "      <td>2021</td>\n",
       "    </tr>\n",
       "  </tbody>\n",
       "</table>\n",
       "</div>"
      ],
      "text/plain": [
       "   rental_count  average_duration  member_perc  bike_type_perc  year\n",
       "0      29798394         15.485299     0.779798        0.393368  2022\n",
       "0      27104739         16.409179     0.732531        0.318306  2021"
      ]
     },
     "execution_count": 12,
     "metadata": {},
     "output_type": "execute_result"
    }
   ],
   "source": [
    "data = pd.concat([summary_data_2022, summary_data_2021])\n",
    "data"
   ]
  },
  {
   "cell_type": "code",
   "execution_count": 43,
   "id": "086c0931-2f2c-4fdf-a051-c962e4bec73c",
   "metadata": {},
   "outputs": [
    {
     "data": {
      "text/html": [
       "<div>\n",
       "<style scoped>\n",
       "    .dataframe tbody tr th:only-of-type {\n",
       "        vertical-align: middle;\n",
       "    }\n",
       "\n",
       "    .dataframe tbody tr th {\n",
       "        vertical-align: top;\n",
       "    }\n",
       "\n",
       "    .dataframe thead th {\n",
       "        text-align: right;\n",
       "    }\n",
       "</style>\n",
       "<table border=\"1\" class=\"dataframe\">\n",
       "  <thead>\n",
       "    <tr style=\"text-align: right;\">\n",
       "      <th></th>\n",
       "      <th>value</th>\n",
       "      <th>delta</th>\n",
       "    </tr>\n",
       "    <tr>\n",
       "      <th>metric</th>\n",
       "      <th></th>\n",
       "      <th></th>\n",
       "    </tr>\n",
       "  </thead>\n",
       "  <tbody>\n",
       "    <tr>\n",
       "      <th>average_duration</th>\n",
       "      <td>1.548530e+01</td>\n",
       "      <td>-0.056303</td>\n",
       "    </tr>\n",
       "    <tr>\n",
       "      <th>bike_type_perc</th>\n",
       "      <td>3.933680e-01</td>\n",
       "      <td>0.075062</td>\n",
       "    </tr>\n",
       "    <tr>\n",
       "      <th>member_perc</th>\n",
       "      <td>7.797977e-01</td>\n",
       "      <td>0.047267</td>\n",
       "    </tr>\n",
       "    <tr>\n",
       "      <th>rental_count</th>\n",
       "      <td>2.979839e+07</td>\n",
       "      <td>0.099379</td>\n",
       "    </tr>\n",
       "  </tbody>\n",
       "</table>\n",
       "</div>"
      ],
      "text/plain": [
       "                         value     delta\n",
       "metric                                  \n",
       "average_duration  1.548530e+01 -0.056303\n",
       "bike_type_perc    3.933680e-01  0.075062\n",
       "member_perc       7.797977e-01  0.047267\n",
       "rental_count      2.979839e+07  0.099379"
      ]
     },
     "execution_count": 43,
     "metadata": {},
     "output_type": "execute_result"
    }
   ],
   "source": [
    "KPI_df = (data\n",
    " .melt(id_vars = \"year\", var_name = \"metric\", value_name = \"value\") # unpivot to long format\n",
    " .pivot(index = \"metric\", columns = \"year\", values = \"value\") # repivot for side by side\n",
    " .rename_axis(columns = None)\n",
    " .assign(\n",
    "     value = lambda df: df[2022],\n",
    "     delta = lambda df: df.apply(lambda row: (row[2022] - row[2021]) / row[2021]\n",
    "                                 if row.name in [\"rental_count\", \"average_duration\"]\n",
    "                                 else row[2022] - row[2021],\n",
    "                                 axis = 1),\n",
    " )\n",
    " .reset_index()[[\"metric\", \"value\", \"delta\"]]\n",
    " .set_index(\"metric\")\n",
    ")\n",
    "\n",
    "KPI_df"
   ]
  },
  {
   "cell_type": "code",
   "execution_count": 45,
   "id": "9892411c-98fc-400b-b61a-ff26da905f6d",
   "metadata": {},
   "outputs": [],
   "source": [
    "KPI_df.to_csv(r\"Data/KPI_df.csv\", index = True)"
   ]
  },
  {
   "cell_type": "code",
   "execution_count": 47,
   "id": "5cf10c25-c201-4177-a6e1-2e34b5e233e0",
   "metadata": {},
   "outputs": [],
   "source": [
    "KPI_df = pd.read_csv(r\"Data/KPI_df.csv\", index_col = \"metric\")"
   ]
  },
  {
   "cell_type": "code",
   "execution_count": 49,
   "id": "e5aff46f-3de0-4132-92a6-6845cccc9209",
   "metadata": {},
   "outputs": [
    {
     "data": {
      "text/html": [
       "<div>\n",
       "<style scoped>\n",
       "    .dataframe tbody tr th:only-of-type {\n",
       "        vertical-align: middle;\n",
       "    }\n",
       "\n",
       "    .dataframe tbody tr th {\n",
       "        vertical-align: top;\n",
       "    }\n",
       "\n",
       "    .dataframe thead th {\n",
       "        text-align: right;\n",
       "    }\n",
       "</style>\n",
       "<table border=\"1\" class=\"dataframe\">\n",
       "  <thead>\n",
       "    <tr style=\"text-align: right;\">\n",
       "      <th></th>\n",
       "      <th>value</th>\n",
       "      <th>delta</th>\n",
       "    </tr>\n",
       "    <tr>\n",
       "      <th>metric</th>\n",
       "      <th></th>\n",
       "      <th></th>\n",
       "    </tr>\n",
       "  </thead>\n",
       "  <tbody>\n",
       "    <tr>\n",
       "      <th>average_duration</th>\n",
       "      <td>1.548530e+01</td>\n",
       "      <td>-0.056303</td>\n",
       "    </tr>\n",
       "    <tr>\n",
       "      <th>bike_type_perc</th>\n",
       "      <td>3.933680e-01</td>\n",
       "      <td>0.075062</td>\n",
       "    </tr>\n",
       "    <tr>\n",
       "      <th>member_perc</th>\n",
       "      <td>7.797977e-01</td>\n",
       "      <td>0.047267</td>\n",
       "    </tr>\n",
       "    <tr>\n",
       "      <th>rental_count</th>\n",
       "      <td>2.979839e+07</td>\n",
       "      <td>0.099379</td>\n",
       "    </tr>\n",
       "  </tbody>\n",
       "</table>\n",
       "</div>"
      ],
      "text/plain": [
       "                         value     delta\n",
       "metric                                  \n",
       "average_duration  1.548530e+01 -0.056303\n",
       "bike_type_perc    3.933680e-01  0.075062\n",
       "member_perc       7.797977e-01  0.047267\n",
       "rental_count      2.979839e+07  0.099379"
      ]
     },
     "execution_count": 49,
     "metadata": {},
     "output_type": "execute_result"
    }
   ],
   "source": [
    "KPI_df"
   ]
  },
  {
   "cell_type": "code",
   "execution_count": 55,
   "id": "d3710d62-6461-44a8-805e-7187226fa73b",
   "metadata": {
    "scrolled": true
   },
   "outputs": [],
   "source": [
    "# read KPI_df\n",
    "total_rentals = KPI_df.loc[\"rental_count\", \"value\"]\n",
    "total_rentals_delta = KPI_df.loc[\"rental_count\",\"delta\"]\n",
    "\n",
    "avg_duration = KPI_df.loc[\"average_duration\", \"value\"]\n",
    "avg_duration_delta = KPI_df.loc[\"average_duration\", \"delta\"]\n",
    "\n",
    "member_perc = KPI_df.loc[\"member_perc\", \"value\"] * 100\n",
    "member_delta = KPI_df.loc[\"member_perc\",\"delta\"] * 100\n",
    "\n",
    "ebike_perc = KPI_df.loc[\"bike_type_perc\", \"value\"] * 100\n",
    "ebike_delta = KPI_df.loc[\"bike_type_perc\", \"delta\"] * 100"
   ]
  },
  {
   "cell_type": "code",
   "execution_count": null,
   "id": "072de568-d2a3-4b6d-8639-a30b3621b143",
   "metadata": {},
   "outputs": [],
   "source": [
    "col1, col2, col3, col4 = st.columns(4)\n",
    "\n",
    "with col1:\n",
    "    st.metric(\"Total Rides (YTD)\", f\"{total_rentals:,.0f}\", \n",
    "              f\"{total_rentals_delta * 100:+.1f}% vs LY\")\n",
    "\n",
    "with col2:\n",
    "    st.metric(\"Avg Trip Duration\", f\"{avg_duration:.1f} min\", \n",
    "              f\"{avg_duration_delta * 100:+.1f}% vs LY\")\n",
    "\n",
    "with col3:\n",
    "    st.metric(\"Members %\", f\"{member_perc:.0f}%\", \n",
    "              f\"{member_delta:+.1f}% vs LY\")\n",
    "\n",
    "with col4:\n",
    "    st.metric(\"Electric Bike %\", f\"{ebike_perc:.0f}%\", \n",
    "              f\"{ebike_delta:.0f}% vs LY\")"
   ]
  },
  {
   "cell_type": "markdown",
   "id": "01fe07e9-c92a-4be5-8c64-ec39fee29c6e",
   "metadata": {
    "jp-MarkdownHeadingCollapsed": true
   },
   "source": [
    "## Seasonality & Demand Patterns"
   ]
  },
  {
   "cell_type": "raw",
   "id": "8cd73823-4761-4364-9a3f-2b8a632ae88e",
   "metadata": {},
   "source": [
    "Line Chart - Rentals vs Temperature\n",
    "Line Chart - Day of the week (weekdays vs weekends)\n",
    "Line Chart - Hourly usage (rush hours, evenings)\n",
    "How does this affect the member type? Are members less elastic to time and weather patterns because their circumstances (commute, etc) require it?"
   ]
  },
  {
   "cell_type": "markdown",
   "id": "9035bbf0-ef16-4a1e-8ade-607c7c829d19",
   "metadata": {},
   "source": [
    "### Day of Week"
   ]
  },
  {
   "cell_type": "code",
   "execution_count": 277,
   "id": "dcab584e-2e15-4ce1-bea3-ef32c9281b19",
   "metadata": {},
   "outputs": [
    {
     "data": {
      "text/html": [
       "<div>\n",
       "<style scoped>\n",
       "    .dataframe tbody tr th:only-of-type {\n",
       "        vertical-align: middle;\n",
       "    }\n",
       "\n",
       "    .dataframe tbody tr th {\n",
       "        vertical-align: top;\n",
       "    }\n",
       "\n",
       "    .dataframe thead th {\n",
       "        text-align: right;\n",
       "    }\n",
       "</style>\n",
       "<table border=\"1\" class=\"dataframe\">\n",
       "  <thead>\n",
       "    <tr style=\"text-align: right;\">\n",
       "      <th></th>\n",
       "      <th>day</th>\n",
       "      <th>rental_count</th>\n",
       "    </tr>\n",
       "  </thead>\n",
       "  <tbody>\n",
       "    <tr>\n",
       "      <th>0</th>\n",
       "      <td>Monday</td>\n",
       "      <td>39214</td>\n",
       "    </tr>\n",
       "    <tr>\n",
       "      <th>1</th>\n",
       "      <td>Tuesday</td>\n",
       "      <td>43383</td>\n",
       "    </tr>\n",
       "    <tr>\n",
       "      <th>2</th>\n",
       "      <td>Wednesday</td>\n",
       "      <td>45843</td>\n",
       "    </tr>\n",
       "    <tr>\n",
       "      <th>3</th>\n",
       "      <td>Thursday</td>\n",
       "      <td>45776</td>\n",
       "    </tr>\n",
       "    <tr>\n",
       "      <th>4</th>\n",
       "      <td>Friday</td>\n",
       "      <td>44493</td>\n",
       "    </tr>\n",
       "    <tr>\n",
       "      <th>5</th>\n",
       "      <td>Saturday</td>\n",
       "      <td>42546</td>\n",
       "    </tr>\n",
       "    <tr>\n",
       "      <th>6</th>\n",
       "      <td>Sunday</td>\n",
       "      <td>37133</td>\n",
       "    </tr>\n",
       "  </tbody>\n",
       "</table>\n",
       "</div>"
      ],
      "text/plain": [
       "         day  rental_count\n",
       "0     Monday         39214\n",
       "1    Tuesday         43383\n",
       "2  Wednesday         45843\n",
       "3   Thursday         45776\n",
       "4     Friday         44493\n",
       "5   Saturday         42546\n",
       "6     Sunday         37133"
      ]
     },
     "execution_count": 277,
     "metadata": {},
     "output_type": "execute_result"
    }
   ],
   "source": [
    "# Day of Week\n",
    "dow_df = \\\n",
    "(test\n",
    " .groupby(test[\"started_at\"].dt.day_name())\n",
    " .size()\n",
    " .reindex([\"Monday\", \"Tuesday\", \"Wednesday\", \"Thursday\", \"Friday\", \"Saturday\", \"Sunday\"])\n",
    " .to_frame(name = \"rental_count\")\n",
    " .rename_axis(\"day\")\n",
    " .reset_index()\n",
    ")\n",
    "\n",
    "dow_df"
   ]
  },
  {
   "cell_type": "code",
   "execution_count": 279,
   "id": "b610536b-02dd-4c5a-acc7-c2c656828cef",
   "metadata": {},
   "outputs": [],
   "source": [
    "dow_df.to_csv(\"Data/dow_df.csv\", index = False)"
   ]
  },
  {
   "cell_type": "code",
   "execution_count": 281,
   "id": "05f2e0e1-29d8-42df-93b9-262743f4868a",
   "metadata": {},
   "outputs": [],
   "source": [
    "dow_df = pd.read_csv(r\"Data\\dow_df.csv\")"
   ]
  },
  {
   "cell_type": "code",
   "execution_count": 283,
   "id": "6e04ca30-9097-4d7e-9682-7a502bd4b2eb",
   "metadata": {},
   "outputs": [
    {
     "data": {
      "text/html": [
       "<div>\n",
       "<style scoped>\n",
       "    .dataframe tbody tr th:only-of-type {\n",
       "        vertical-align: middle;\n",
       "    }\n",
       "\n",
       "    .dataframe tbody tr th {\n",
       "        vertical-align: top;\n",
       "    }\n",
       "\n",
       "    .dataframe thead th {\n",
       "        text-align: right;\n",
       "    }\n",
       "</style>\n",
       "<table border=\"1\" class=\"dataframe\">\n",
       "  <thead>\n",
       "    <tr style=\"text-align: right;\">\n",
       "      <th></th>\n",
       "      <th>day</th>\n",
       "      <th>rental_count</th>\n",
       "    </tr>\n",
       "  </thead>\n",
       "  <tbody>\n",
       "    <tr>\n",
       "      <th>0</th>\n",
       "      <td>Monday</td>\n",
       "      <td>39214</td>\n",
       "    </tr>\n",
       "    <tr>\n",
       "      <th>1</th>\n",
       "      <td>Tuesday</td>\n",
       "      <td>43383</td>\n",
       "    </tr>\n",
       "    <tr>\n",
       "      <th>2</th>\n",
       "      <td>Wednesday</td>\n",
       "      <td>45843</td>\n",
       "    </tr>\n",
       "    <tr>\n",
       "      <th>3</th>\n",
       "      <td>Thursday</td>\n",
       "      <td>45776</td>\n",
       "    </tr>\n",
       "    <tr>\n",
       "      <th>4</th>\n",
       "      <td>Friday</td>\n",
       "      <td>44493</td>\n",
       "    </tr>\n",
       "    <tr>\n",
       "      <th>5</th>\n",
       "      <td>Saturday</td>\n",
       "      <td>42546</td>\n",
       "    </tr>\n",
       "    <tr>\n",
       "      <th>6</th>\n",
       "      <td>Sunday</td>\n",
       "      <td>37133</td>\n",
       "    </tr>\n",
       "  </tbody>\n",
       "</table>\n",
       "</div>"
      ],
      "text/plain": [
       "         day  rental_count\n",
       "0     Monday         39214\n",
       "1    Tuesday         43383\n",
       "2  Wednesday         45843\n",
       "3   Thursday         45776\n",
       "4     Friday         44493\n",
       "5   Saturday         42546\n",
       "6     Sunday         37133"
      ]
     },
     "execution_count": 283,
     "metadata": {},
     "output_type": "execute_result"
    }
   ],
   "source": [
    "dow_df"
   ]
  },
  {
   "cell_type": "code",
   "execution_count": 285,
   "id": "6d61de98-2e65-4a51-8256-afd8511ee432",
   "metadata": {},
   "outputs": [
    {
     "data": {
      "application/vnd.plotly.v1+json": {
       "config": {
        "plotlyServerURL": "https://plot.ly"
       },
       "data": [
        {
         "alignmentgroup": "True",
         "hovertemplate": "Day of Week=%{x}<br>Number of Rentals=%{y}<extra></extra>",
         "legendgroup": "",
         "marker": {
          "color": "steelblue",
          "pattern": {
           "shape": ""
          }
         },
         "name": "",
         "offsetgroup": "",
         "orientation": "v",
         "showlegend": false,
         "textposition": "auto",
         "type": "bar",
         "x": [
          "Monday",
          "Tuesday",
          "Wednesday",
          "Thursday",
          "Friday",
          "Saturday",
          "Sunday"
         ],
         "xaxis": "x",
         "y": [
          39214,
          43383,
          45843,
          45776,
          44493,
          42546,
          37133
         ],
         "yaxis": "y"
        }
       ],
       "layout": {
        "annotations": [
         {
          "font": {
           "size": 8
          },
          "showarrow": false,
          "text": "Weekdays",
          "x": -0.5,
          "xanchor": "left",
          "xref": "x",
          "y": 1,
          "yanchor": "top",
          "yref": "y domain"
         },
         {
          "font": {
           "size": 8
          },
          "showarrow": false,
          "text": "Weekend",
          "x": 4.5,
          "xanchor": "left",
          "xref": "x",
          "y": 1,
          "yanchor": "top",
          "yref": "y domain"
         }
        ],
        "barmode": "relative",
        "height": 500,
        "legend": {
         "tracegroupgap": 0
        },
        "margin": {
         "b": 50,
         "l": 50,
         "r": 50,
         "t": 80
        },
        "shapes": [
         {
          "fillcolor": "lavender",
          "layer": "below",
          "line": {
           "width": 0
          },
          "opacity": 0.5,
          "type": "rect",
          "x0": -0.5,
          "x1": 4.5,
          "xref": "x",
          "y0": 0,
          "y1": 1,
          "yref": "y domain"
         },
         {
          "fillcolor": "yellowgreen",
          "layer": "below",
          "line": {
           "width": 0
          },
          "opacity": 0.2,
          "type": "rect",
          "x0": 4.5,
          "x1": 6.5,
          "xref": "x",
          "y0": 0,
          "y1": 1,
          "yref": "y domain"
         }
        ],
        "template": {
         "data": {
          "candlestick": [
           {
            "decreasing": {
             "line": {
              "color": "#000033"
             }
            },
            "increasing": {
             "line": {
              "color": "#000032"
             }
            },
            "type": "candlestick"
           }
          ],
          "contour": [
           {
            "colorscale": [
             [
              0,
              "#000011"
             ],
             [
              0.1111111111111111,
              "#000012"
             ],
             [
              0.2222222222222222,
              "#000013"
             ],
             [
              0.3333333333333333,
              "#000014"
             ],
             [
              0.4444444444444444,
              "#000015"
             ],
             [
              0.5555555555555556,
              "#000016"
             ],
             [
              0.6666666666666666,
              "#000017"
             ],
             [
              0.7777777777777778,
              "#000018"
             ],
             [
              0.8888888888888888,
              "#000019"
             ],
             [
              1,
              "#000020"
             ]
            ],
            "type": "contour"
           }
          ],
          "contourcarpet": [
           {
            "colorscale": [
             [
              0,
              "#000011"
             ],
             [
              0.1111111111111111,
              "#000012"
             ],
             [
              0.2222222222222222,
              "#000013"
             ],
             [
              0.3333333333333333,
              "#000014"
             ],
             [
              0.4444444444444444,
              "#000015"
             ],
             [
              0.5555555555555556,
              "#000016"
             ],
             [
              0.6666666666666666,
              "#000017"
             ],
             [
              0.7777777777777778,
              "#000018"
             ],
             [
              0.8888888888888888,
              "#000019"
             ],
             [
              1,
              "#000020"
             ]
            ],
            "type": "contourcarpet"
           }
          ],
          "heatmap": [
           {
            "colorscale": [
             [
              0,
              "#000011"
             ],
             [
              0.1111111111111111,
              "#000012"
             ],
             [
              0.2222222222222222,
              "#000013"
             ],
             [
              0.3333333333333333,
              "#000014"
             ],
             [
              0.4444444444444444,
              "#000015"
             ],
             [
              0.5555555555555556,
              "#000016"
             ],
             [
              0.6666666666666666,
              "#000017"
             ],
             [
              0.7777777777777778,
              "#000018"
             ],
             [
              0.8888888888888888,
              "#000019"
             ],
             [
              1,
              "#000020"
             ]
            ],
            "type": "heatmap"
           }
          ],
          "histogram2d": [
           {
            "colorscale": [
             [
              0,
              "#000011"
             ],
             [
              0.1111111111111111,
              "#000012"
             ],
             [
              0.2222222222222222,
              "#000013"
             ],
             [
              0.3333333333333333,
              "#000014"
             ],
             [
              0.4444444444444444,
              "#000015"
             ],
             [
              0.5555555555555556,
              "#000016"
             ],
             [
              0.6666666666666666,
              "#000017"
             ],
             [
              0.7777777777777778,
              "#000018"
             ],
             [
              0.8888888888888888,
              "#000019"
             ],
             [
              1,
              "#000020"
             ]
            ],
            "type": "histogram2d"
           }
          ],
          "icicle": [
           {
            "textfont": {
             "color": "white"
            },
            "type": "icicle"
           }
          ],
          "sankey": [
           {
            "textfont": {
             "color": "#000036"
            },
            "type": "sankey"
           }
          ],
          "scatter": [
           {
            "marker": {
             "line": {
              "width": 0
             }
            },
            "type": "scatter"
           }
          ],
          "table": [
           {
            "cells": {
             "fill": {
              "color": "#000038"
             },
             "font": {
              "color": "#000037"
             },
             "line": {
              "color": "#000039"
             }
            },
            "header": {
             "fill": {
              "color": "#000040"
             },
             "font": {
              "color": "#000036"
             },
             "line": {
              "color": "#000039"
             }
            },
            "type": "table"
           }
          ],
          "waterfall": [
           {
            "connector": {
             "line": {
              "color": "#000036",
              "width": 2
             }
            },
            "decreasing": {
             "marker": {
              "color": "#000033"
             }
            },
            "increasing": {
             "marker": {
              "color": "#000032"
             }
            },
            "totals": {
             "marker": {
              "color": "#000034"
             }
            },
            "type": "waterfall"
           }
          ]
         },
         "layout": {
          "coloraxis": {
           "colorscale": [
            [
             0,
             "#000011"
            ],
            [
             0.1111111111111111,
             "#000012"
            ],
            [
             0.2222222222222222,
             "#000013"
            ],
            [
             0.3333333333333333,
             "#000014"
            ],
            [
             0.4444444444444444,
             "#000015"
            ],
            [
             0.5555555555555556,
             "#000016"
            ],
            [
             0.6666666666666666,
             "#000017"
            ],
            [
             0.7777777777777778,
             "#000018"
            ],
            [
             0.8888888888888888,
             "#000019"
            ],
            [
             1,
             "#000020"
            ]
           ]
          },
          "colorscale": {
           "diverging": [
            [
             0,
             "#000021"
            ],
            [
             0.1,
             "#000022"
            ],
            [
             0.2,
             "#000023"
            ],
            [
             0.3,
             "#000024"
            ],
            [
             0.4,
             "#000025"
            ],
            [
             0.5,
             "#000026"
            ],
            [
             0.6,
             "#000027"
            ],
            [
             0.7,
             "#000028"
            ],
            [
             0.8,
             "#000029"
            ],
            [
             0.9,
             "#000030"
            ],
            [
             1,
             "#000031"
            ]
           ],
           "sequential": [
            [
             0,
             "#000011"
            ],
            [
             0.1111111111111111,
             "#000012"
            ],
            [
             0.2222222222222222,
             "#000013"
            ],
            [
             0.3333333333333333,
             "#000014"
            ],
            [
             0.4444444444444444,
             "#000015"
            ],
            [
             0.5555555555555556,
             "#000016"
            ],
            [
             0.6666666666666666,
             "#000017"
            ],
            [
             0.7777777777777778,
             "#000018"
            ],
            [
             0.8888888888888888,
             "#000019"
            ],
            [
             1,
             "#000020"
            ]
           ],
           "sequentialminus": [
            [
             0,
             "#000011"
            ],
            [
             0.1111111111111111,
             "#000012"
            ],
            [
             0.2222222222222222,
             "#000013"
            ],
            [
             0.3333333333333333,
             "#000014"
            ],
            [
             0.4444444444444444,
             "#000015"
            ],
            [
             0.5555555555555556,
             "#000016"
            ],
            [
             0.6666666666666666,
             "#000017"
            ],
            [
             0.7777777777777778,
             "#000018"
            ],
            [
             0.8888888888888888,
             "#000019"
            ],
            [
             1,
             "#000020"
            ]
           ]
          },
          "colorway": [
           "#000001",
           "#000002",
           "#000003",
           "#000004",
           "#000005",
           "#000006",
           "#000007",
           "#000008",
           "#000009",
           "#000010"
          ]
         }
        },
        "title": {
         "text": "Rentals by Day of Week"
        },
        "width": 900,
        "xaxis": {
         "anchor": "y",
         "autorange": true,
         "domain": [
          0,
          1
         ],
         "range": [
          -0.5,
          6.5
         ],
         "title": {
          "text": "Day of Week"
         },
         "type": "category"
        },
        "yaxis": {
         "anchor": "x",
         "autorange": true,
         "domain": [
          0,
          1
         ],
         "range": [
          0,
          48255.78947368421
         ],
         "title": {
          "text": "Number of Rentals"
         },
         "type": "linear"
        }
       }
      },
      "image/png": "[encoded data removed]",
      "text/html": [
       "<div>                            <div id=\"b6a6e626-ab3e-4553-ab6c-d4ba4a71b94e\" class=\"plotly-graph-div\" style=\"height:500px; width:900px;\"></div>            <script type=\"text/javascript\">                require([\"plotly\"], function(Plotly) {                    window.PLOTLYENV=window.PLOTLYENV || {};                                    if (document.getElementById(\"b6a6e626-ab3e-4553-ab6c-d4ba4a71b94e\")) {                    Plotly.newPlot(                        \"b6a6e626-ab3e-4553-ab6c-d4ba4a71b94e\",                        [{\"alignmentgroup\":\"True\",\"hovertemplate\":\"Day of Week=%{x}<br>Number of Rentals=%{y}<extra></extra>\",\"legendgroup\":\"\",\"marker\":{\"color\":\"steelblue\",\"pattern\":{\"shape\":\"\"}},\"name\":\"\",\"offsetgroup\":\"\",\"orientation\":\"v\",\"showlegend\":false,\"textposition\":\"auto\",\"x\":[\"Monday\",\"Tuesday\",\"Wednesday\",\"Thursday\",\"Friday\",\"Saturday\",\"Sunday\"],\"xaxis\":\"x\",\"y\":[39214,43383,45843,45776,44493,42546,37133],\"yaxis\":\"y\",\"type\":\"bar\"}],                        {\"template\":{\"data\":{\"candlestick\":[{\"decreasing\":{\"line\":{\"color\":\"#000033\"}},\"increasing\":{\"line\":{\"color\":\"#000032\"}},\"type\":\"candlestick\"}],\"contourcarpet\":[{\"colorscale\":[[0.0,\"#000011\"],[0.1111111111111111,\"#000012\"],[0.2222222222222222,\"#000013\"],[0.3333333333333333,\"#000014\"],[0.4444444444444444,\"#000015\"],[0.5555555555555556,\"#000016\"],[0.6666666666666666,\"#000017\"],[0.7777777777777778,\"#000018\"],[0.8888888888888888,\"#000019\"],[1.0,\"#000020\"]],\"type\":\"contourcarpet\"}],\"contour\":[{\"colorscale\":[[0.0,\"#000011\"],[0.1111111111111111,\"#000012\"],[0.2222222222222222,\"#000013\"],[0.3333333333333333,\"#000014\"],[0.4444444444444444,\"#000015\"],[0.5555555555555556,\"#000016\"],[0.6666666666666666,\"#000017\"],[0.7777777777777778,\"#000018\"],[0.8888888888888888,\"#000019\"],[1.0,\"#000020\"]],\"type\":\"contour\"}],\"heatmap\":[{\"colorscale\":[[0.0,\"#000011\"],[0.1111111111111111,\"#000012\"],[0.2222222222222222,\"#000013\"],[0.3333333333333333,\"#000014\"],[0.4444444444444444,\"#000015\"],[0.5555555555555556,\"#000016\"],[0.6666666666666666,\"#000017\"],[0.7777777777777778,\"#000018\"],[0.8888888888888888,\"#000019\"],[1.0,\"#000020\"]],\"type\":\"heatmap\"}],\"histogram2d\":[{\"colorscale\":[[0.0,\"#000011\"],[0.1111111111111111,\"#000012\"],[0.2222222222222222,\"#000013\"],[0.3333333333333333,\"#000014\"],[0.4444444444444444,\"#000015\"],[0.5555555555555556,\"#000016\"],[0.6666666666666666,\"#000017\"],[0.7777777777777778,\"#000018\"],[0.8888888888888888,\"#000019\"],[1.0,\"#000020\"]],\"type\":\"histogram2d\"}],\"icicle\":[{\"textfont\":{\"color\":\"white\"},\"type\":\"icicle\"}],\"sankey\":[{\"textfont\":{\"color\":\"#000036\"},\"type\":\"sankey\"}],\"scatter\":[{\"marker\":{\"line\":{\"width\":0}},\"type\":\"scatter\"}],\"table\":[{\"cells\":{\"fill\":{\"color\":\"#000038\"},\"font\":{\"color\":\"#000037\"},\"line\":{\"color\":\"#000039\"}},\"header\":{\"fill\":{\"color\":\"#000040\"},\"font\":{\"color\":\"#000036\"},\"line\":{\"color\":\"#000039\"}},\"type\":\"table\"}],\"waterfall\":[{\"connector\":{\"line\":{\"color\":\"#000036\",\"width\":2}},\"decreasing\":{\"marker\":{\"color\":\"#000033\"}},\"increasing\":{\"marker\":{\"color\":\"#000032\"}},\"totals\":{\"marker\":{\"color\":\"#000034\"}},\"type\":\"waterfall\"}]},\"layout\":{\"coloraxis\":{\"colorscale\":[[0.0,\"#000011\"],[0.1111111111111111,\"#000012\"],[0.2222222222222222,\"#000013\"],[0.3333333333333333,\"#000014\"],[0.4444444444444444,\"#000015\"],[0.5555555555555556,\"#000016\"],[0.6666666666666666,\"#000017\"],[0.7777777777777778,\"#000018\"],[0.8888888888888888,\"#000019\"],[1.0,\"#000020\"]]},\"colorscale\":{\"diverging\":[[0.0,\"#000021\"],[0.1,\"#000022\"],[0.2,\"#000023\"],[0.3,\"#000024\"],[0.4,\"#000025\"],[0.5,\"#000026\"],[0.6,\"#000027\"],[0.7,\"#000028\"],[0.8,\"#000029\"],[0.9,\"#000030\"],[1.0,\"#000031\"]],\"sequential\":[[0.0,\"#000011\"],[0.1111111111111111,\"#000012\"],[0.2222222222222222,\"#000013\"],[0.3333333333333333,\"#000014\"],[0.4444444444444444,\"#000015\"],[0.5555555555555556,\"#000016\"],[0.6666666666666666,\"#000017\"],[0.7777777777777778,\"#000018\"],[0.8888888888888888,\"#000019\"],[1.0,\"#000020\"]],\"sequentialminus\":[[0.0,\"#000011\"],[0.1111111111111111,\"#000012\"],[0.2222222222222222,\"#000013\"],[0.3333333333333333,\"#000014\"],[0.4444444444444444,\"#000015\"],[0.5555555555555556,\"#000016\"],[0.6666666666666666,\"#000017\"],[0.7777777777777778,\"#000018\"],[0.8888888888888888,\"#000019\"],[1.0,\"#000020\"]]},\"colorway\":[\"#000001\",\"#000002\",\"#000003\",\"#000004\",\"#000005\",\"#000006\",\"#000007\",\"#000008\",\"#000009\",\"#000010\"]}},\"xaxis\":{\"anchor\":\"y\",\"domain\":[0.0,1.0],\"title\":{\"text\":\"Day of Week\"}},\"yaxis\":{\"anchor\":\"x\",\"domain\":[0.0,1.0],\"title\":{\"text\":\"Number of Rentals\"}},\"legend\":{\"tracegroupgap\":0},\"title\":{\"text\":\"Rentals by Day of Week\"},\"barmode\":\"relative\",\"shapes\":[{\"fillcolor\":\"lavender\",\"layer\":\"below\",\"line\":{\"width\":0},\"opacity\":0.5,\"type\":\"rect\",\"x0\":-0.5,\"x1\":4.5,\"xref\":\"x\",\"y0\":0,\"y1\":1,\"yref\":\"y domain\"},{\"fillcolor\":\"yellowgreen\",\"layer\":\"below\",\"line\":{\"width\":0},\"opacity\":0.2,\"type\":\"rect\",\"x0\":4.5,\"x1\":6.5,\"xref\":\"x\",\"y0\":0,\"y1\":1,\"yref\":\"y domain\"}],\"annotations\":[{\"font\":{\"size\":8},\"showarrow\":false,\"text\":\"Weekdays\",\"x\":-0.5,\"xanchor\":\"left\",\"xref\":\"x\",\"y\":1,\"yanchor\":\"top\",\"yref\":\"y domain\"},{\"font\":{\"size\":8},\"showarrow\":false,\"text\":\"Weekend\",\"x\":4.5,\"xanchor\":\"left\",\"xref\":\"x\",\"y\":1,\"yanchor\":\"top\",\"yref\":\"y domain\"}],\"margin\":{\"l\":50,\"r\":50,\"t\":80,\"b\":50},\"width\":900,\"height\":500},                        {\"responsive\": true}                    ).then(function(){\n",
       "                            \n",
       "var gd = document.getElementById('b6a6e626-ab3e-4553-ab6c-d4ba4a71b94e');\n",
       "var x = new MutationObserver(function (mutations, observer) {{\n",
       "        var display = window.getComputedStyle(gd).display;\n",
       "        if (!display || display === 'none') {{\n",
       "            console.log([gd, 'removed!']);\n",
       "            Plotly.purge(gd);\n",
       "            observer.disconnect();\n",
       "        }}\n",
       "}});\n",
       "\n",
       "// Listen for the removal of the full notebook cells\n",
       "var notebookContainer = gd.closest('#notebook-container');\n",
       "if (notebookContainer) {{\n",
       "    x.observe(notebookContainer, {childList: true});\n",
       "}}\n",
       "\n",
       "// Listen for the clearing of the current output cell\n",
       "var outputEl = gd.closest('.output');\n",
       "if (outputEl) {{\n",
       "    x.observe(outputEl, {childList: true});\n",
       "}}\n",
       "\n",
       "                        })                };                });            </script>        </div>"
      ]
     },
     "metadata": {},
     "output_type": "display_data"
    }
   ],
   "source": [
    "fig = px.bar(\n",
    "    x = dow_df[\"day\"],\n",
    "    y = dow_df[\"rental_count\"],\n",
    "    labels = {\"x\":\"Day of Week\", \"y\":\"Number of Rentals\"},\n",
    "    title = \"Rentals by Day of Week\",\n",
    "    color_discrete_sequence = [\"steelblue\"]\n",
    ")\n",
    "\n",
    "# highlight weekeday\n",
    "fig.add_vrect(\n",
    "    x0 = -0.5, x1 = 4.5,\n",
    "    fillcolor = \"lavender\", opacity = 0.5,\n",
    "    layer = \"below\", line_width = 0,\n",
    "    annotation_text = \"Weekdays\", annotation_position = \"top left\", annotation_font_size = 8\n",
    ")\n",
    "\n",
    "# highlight weekend\n",
    "fig.add_vrect(\n",
    "    x0 = 4.5, x1 = 6.5,\n",
    "    fillcolor = \"yellowgreen\", opacity = 0.2,\n",
    "    layer = \"below\", line_width = 0,\n",
    "    annotation_text = \"Weekend\", annotation_position = \"top left\", annotation_font_size = 8\n",
    ")\n",
    "\n",
    "fig.update_layout(\n",
    "    width = 900, height = 500,\n",
    "    margin = dict(l = 50, r = 50, t = 80, b = 50)\n",
    ")\n",
    "\n",
    "fig.show()"
   ]
  },
  {
   "cell_type": "code",
   "execution_count": 148,
   "id": "813b6e03-1e37-438b-9ade-5c8821767bdb",
   "metadata": {},
   "outputs": [],
   "source": [
    "# Extract date and day of week\n",
    "test[\"date\"] = test[\"started_at\"].dt.date\n",
    "test[\"dayofweek\"] = test[\"started_at\"].dt.dayofweek  # Mon = 0, Sun = 6\n",
    "\n",
    "# Count rentals per day\n",
    "daily_counts = test.groupby(\"date\")[\"ride_id\"].count().reset_index(name=\"trips\")\n",
    "\n",
    "# Tag weekday vs weekend\n",
    "daily_counts[\"is_weekend\"] = daily_counts[\"date\"].apply(\n",
    "    lambda x: pd.Timestamp(x).dayofweek >= 5\n",
    ")\n",
    "\n",
    "weekday_trips = daily_counts[daily_counts[\"is_weekend\"] == False][\"trips\"]\n",
    "weekend_trips = daily_counts[daily_counts[\"is_weekend\"] == True][\"trips\"]"
   ]
  },
  {
   "cell_type": "code",
   "execution_count": 150,
   "id": "e52b60f9-246c-4c29-a5ab-3d5097c783b9",
   "metadata": {},
   "outputs": [
    {
     "data": {
      "image/png": "[encoded data removed]",
      "text/plain": [
       "<Figure size 800x500 with 1 Axes>"
      ]
     },
     "metadata": {},
     "output_type": "display_data"
    }
   ],
   "source": [
    "plt.figure(figsize=(8,5))\n",
    "sns.boxplot(x=daily_counts[\"is_weekend\"], y=daily_counts[\"trips\"])\n",
    "plt.xticks([0,1], [\"Weekday\", \"Weekend\"])\n",
    "plt.title(\"Daily Trip Counts: Weekday vs Weekend\")\n",
    "plt.ylabel(\"Trips per Day\")\n",
    "plt.show()"
   ]
  },
  {
   "cell_type": "code",
   "execution_count": 152,
   "id": "8324af7a-4baf-4c95-a8f2-f923d6a6ccf6",
   "metadata": {},
   "outputs": [
    {
     "name": "stdout",
     "output_type": "stream",
     "text": [
      "t-statistic: -1.9453822129311578\n",
      "p-value: 0.9733267106165023\n"
     ]
    }
   ],
   "source": [
    "from scipy.stats import ttest_ind\n",
    "\n",
    "t_stat, p_val = ttest_ind(weekend_trips, weekday_trips, equal_var=False, alternative=\"greater\")\n",
    "\n",
    "print(\"t-statistic:\", t_stat)\n",
    "print(\"p-value:\", p_val)"
   ]
  },
  {
   "cell_type": "code",
   "execution_count": 154,
   "id": "169e2d43-b75b-4a2c-8ed3-8379ac94cd68",
   "metadata": {},
   "outputs": [
    {
     "name": "stdout",
     "output_type": "stream",
     "text": [
      "t-statistic: -1.9453822129311578\n",
      "p-value: 0.02667328938349765\n"
     ]
    }
   ],
   "source": [
    "t_stat, p_val = ttest_ind(weekend_trips, weekday_trips, equal_var=False, alternative=\"less\")\n",
    "print(\"t-statistic:\", t_stat)\n",
    "print(\"p-value:\", p_val)"
   ]
  },
  {
   "cell_type": "markdown",
   "id": "474c1d70-2272-4755-b76e-d7c9f76855b0",
   "metadata": {},
   "source": [
    "### Hour"
   ]
  },
  {
   "cell_type": "code",
   "execution_count": 289,
   "id": "330c9a2a-e254-44ef-8743-593dc62ca1c4",
   "metadata": {
    "scrolled": true
   },
   "outputs": [
    {
     "data": {
      "text/html": [
       "<div>\n",
       "<style scoped>\n",
       "    .dataframe tbody tr th:only-of-type {\n",
       "        vertical-align: middle;\n",
       "    }\n",
       "\n",
       "    .dataframe tbody tr th {\n",
       "        vertical-align: top;\n",
       "    }\n",
       "\n",
       "    .dataframe thead th {\n",
       "        text-align: right;\n",
       "    }\n",
       "</style>\n",
       "<table border=\"1\" class=\"dataframe\">\n",
       "  <thead>\n",
       "    <tr style=\"text-align: right;\">\n",
       "      <th></th>\n",
       "      <th>hour</th>\n",
       "      <th>member_casual</th>\n",
       "      <th>trips</th>\n",
       "    </tr>\n",
       "  </thead>\n",
       "  <tbody>\n",
       "    <tr>\n",
       "      <th>0</th>\n",
       "      <td>0</td>\n",
       "      <td>casual</td>\n",
       "      <td>1281</td>\n",
       "    </tr>\n",
       "    <tr>\n",
       "      <th>1</th>\n",
       "      <td>0</td>\n",
       "      <td>member</td>\n",
       "      <td>2856</td>\n",
       "    </tr>\n",
       "    <tr>\n",
       "      <th>2</th>\n",
       "      <td>1</td>\n",
       "      <td>casual</td>\n",
       "      <td>857</td>\n",
       "    </tr>\n",
       "    <tr>\n",
       "      <th>3</th>\n",
       "      <td>1</td>\n",
       "      <td>member</td>\n",
       "      <td>1775</td>\n",
       "    </tr>\n",
       "    <tr>\n",
       "      <th>4</th>\n",
       "      <td>2</td>\n",
       "      <td>casual</td>\n",
       "      <td>530</td>\n",
       "    </tr>\n",
       "    <tr>\n",
       "      <th>5</th>\n",
       "      <td>2</td>\n",
       "      <td>member</td>\n",
       "      <td>1145</td>\n",
       "    </tr>\n",
       "    <tr>\n",
       "      <th>6</th>\n",
       "      <td>3</td>\n",
       "      <td>casual</td>\n",
       "      <td>333</td>\n",
       "    </tr>\n",
       "    <tr>\n",
       "      <th>7</th>\n",
       "      <td>3</td>\n",
       "      <td>member</td>\n",
       "      <td>749</td>\n",
       "    </tr>\n",
       "    <tr>\n",
       "      <th>8</th>\n",
       "      <td>4</td>\n",
       "      <td>casual</td>\n",
       "      <td>256</td>\n",
       "    </tr>\n",
       "    <tr>\n",
       "      <th>9</th>\n",
       "      <td>4</td>\n",
       "      <td>member</td>\n",
       "      <td>691</td>\n",
       "    </tr>\n",
       "    <tr>\n",
       "      <th>10</th>\n",
       "      <td>5</td>\n",
       "      <td>casual</td>\n",
       "      <td>265</td>\n",
       "    </tr>\n",
       "    <tr>\n",
       "      <th>11</th>\n",
       "      <td>5</td>\n",
       "      <td>member</td>\n",
       "      <td>1733</td>\n",
       "    </tr>\n",
       "    <tr>\n",
       "      <th>12</th>\n",
       "      <td>6</td>\n",
       "      <td>casual</td>\n",
       "      <td>653</td>\n",
       "    </tr>\n",
       "    <tr>\n",
       "      <th>13</th>\n",
       "      <td>6</td>\n",
       "      <td>member</td>\n",
       "      <td>5085</td>\n",
       "    </tr>\n",
       "    <tr>\n",
       "      <th>14</th>\n",
       "      <td>7</td>\n",
       "      <td>casual</td>\n",
       "      <td>1245</td>\n",
       "    </tr>\n",
       "    <tr>\n",
       "      <th>15</th>\n",
       "      <td>7</td>\n",
       "      <td>member</td>\n",
       "      <td>10314</td>\n",
       "    </tr>\n",
       "    <tr>\n",
       "      <th>16</th>\n",
       "      <td>8</td>\n",
       "      <td>casual</td>\n",
       "      <td>2089</td>\n",
       "    </tr>\n",
       "    <tr>\n",
       "      <th>17</th>\n",
       "      <td>8</td>\n",
       "      <td>member</td>\n",
       "      <td>15226</td>\n",
       "    </tr>\n",
       "    <tr>\n",
       "      <th>18</th>\n",
       "      <td>9</td>\n",
       "      <td>casual</td>\n",
       "      <td>2384</td>\n",
       "    </tr>\n",
       "    <tr>\n",
       "      <th>19</th>\n",
       "      <td>9</td>\n",
       "      <td>member</td>\n",
       "      <td>12548</td>\n",
       "    </tr>\n",
       "    <tr>\n",
       "      <th>20</th>\n",
       "      <td>10</td>\n",
       "      <td>casual</td>\n",
       "      <td>3015</td>\n",
       "    </tr>\n",
       "    <tr>\n",
       "      <th>21</th>\n",
       "      <td>10</td>\n",
       "      <td>member</td>\n",
       "      <td>10593</td>\n",
       "    </tr>\n",
       "    <tr>\n",
       "      <th>22</th>\n",
       "      <td>11</td>\n",
       "      <td>casual</td>\n",
       "      <td>3642</td>\n",
       "    </tr>\n",
       "    <tr>\n",
       "      <th>23</th>\n",
       "      <td>11</td>\n",
       "      <td>member</td>\n",
       "      <td>11005</td>\n",
       "    </tr>\n",
       "    <tr>\n",
       "      <th>24</th>\n",
       "      <td>12</td>\n",
       "      <td>casual</td>\n",
       "      <td>4262</td>\n",
       "    </tr>\n",
       "    <tr>\n",
       "      <th>25</th>\n",
       "      <td>12</td>\n",
       "      <td>member</td>\n",
       "      <td>12505</td>\n",
       "    </tr>\n",
       "    <tr>\n",
       "      <th>26</th>\n",
       "      <td>13</td>\n",
       "      <td>casual</td>\n",
       "      <td>4639</td>\n",
       "    </tr>\n",
       "    <tr>\n",
       "      <th>27</th>\n",
       "      <td>13</td>\n",
       "      <td>member</td>\n",
       "      <td>13297</td>\n",
       "    </tr>\n",
       "    <tr>\n",
       "      <th>28</th>\n",
       "      <td>14</td>\n",
       "      <td>casual</td>\n",
       "      <td>4890</td>\n",
       "    </tr>\n",
       "    <tr>\n",
       "      <th>29</th>\n",
       "      <td>14</td>\n",
       "      <td>member</td>\n",
       "      <td>14117</td>\n",
       "    </tr>\n",
       "    <tr>\n",
       "      <th>30</th>\n",
       "      <td>15</td>\n",
       "      <td>casual</td>\n",
       "      <td>5391</td>\n",
       "    </tr>\n",
       "    <tr>\n",
       "      <th>31</th>\n",
       "      <td>15</td>\n",
       "      <td>member</td>\n",
       "      <td>15418</td>\n",
       "    </tr>\n",
       "    <tr>\n",
       "      <th>32</th>\n",
       "      <td>16</td>\n",
       "      <td>casual</td>\n",
       "      <td>5452</td>\n",
       "    </tr>\n",
       "    <tr>\n",
       "      <th>33</th>\n",
       "      <td>16</td>\n",
       "      <td>member</td>\n",
       "      <td>17324</td>\n",
       "    </tr>\n",
       "    <tr>\n",
       "      <th>34</th>\n",
       "      <td>17</td>\n",
       "      <td>casual</td>\n",
       "      <td>5708</td>\n",
       "    </tr>\n",
       "    <tr>\n",
       "      <th>35</th>\n",
       "      <td>17</td>\n",
       "      <td>member</td>\n",
       "      <td>21127</td>\n",
       "    </tr>\n",
       "    <tr>\n",
       "      <th>36</th>\n",
       "      <td>18</td>\n",
       "      <td>casual</td>\n",
       "      <td>5564</td>\n",
       "    </tr>\n",
       "    <tr>\n",
       "      <th>37</th>\n",
       "      <td>18</td>\n",
       "      <td>member</td>\n",
       "      <td>20042</td>\n",
       "    </tr>\n",
       "    <tr>\n",
       "      <th>38</th>\n",
       "      <td>19</td>\n",
       "      <td>casual</td>\n",
       "      <td>4412</td>\n",
       "    </tr>\n",
       "    <tr>\n",
       "      <th>39</th>\n",
       "      <td>19</td>\n",
       "      <td>member</td>\n",
       "      <td>15129</td>\n",
       "    </tr>\n",
       "    <tr>\n",
       "      <th>40</th>\n",
       "      <td>20</td>\n",
       "      <td>casual</td>\n",
       "      <td>3125</td>\n",
       "    </tr>\n",
       "    <tr>\n",
       "      <th>41</th>\n",
       "      <td>20</td>\n",
       "      <td>member</td>\n",
       "      <td>10820</td>\n",
       "    </tr>\n",
       "    <tr>\n",
       "      <th>42</th>\n",
       "      <td>21</td>\n",
       "      <td>casual</td>\n",
       "      <td>2391</td>\n",
       "    </tr>\n",
       "    <tr>\n",
       "      <th>43</th>\n",
       "      <td>21</td>\n",
       "      <td>member</td>\n",
       "      <td>7849</td>\n",
       "    </tr>\n",
       "    <tr>\n",
       "      <th>44</th>\n",
       "      <td>22</td>\n",
       "      <td>casual</td>\n",
       "      <td>2069</td>\n",
       "    </tr>\n",
       "    <tr>\n",
       "      <th>45</th>\n",
       "      <td>22</td>\n",
       "      <td>member</td>\n",
       "      <td>6262</td>\n",
       "    </tr>\n",
       "    <tr>\n",
       "      <th>46</th>\n",
       "      <td>23</td>\n",
       "      <td>casual</td>\n",
       "      <td>1723</td>\n",
       "    </tr>\n",
       "    <tr>\n",
       "      <th>47</th>\n",
       "      <td>23</td>\n",
       "      <td>member</td>\n",
       "      <td>4602</td>\n",
       "    </tr>\n",
       "  </tbody>\n",
       "</table>\n",
       "</div>"
      ],
      "text/plain": [
       "    hour member_casual  trips\n",
       "0      0        casual   1281\n",
       "1      0        member   2856\n",
       "2      1        casual    857\n",
       "3      1        member   1775\n",
       "4      2        casual    530\n",
       "5      2        member   1145\n",
       "6      3        casual    333\n",
       "7      3        member    749\n",
       "8      4        casual    256\n",
       "9      4        member    691\n",
       "10     5        casual    265\n",
       "11     5        member   1733\n",
       "12     6        casual    653\n",
       "13     6        member   5085\n",
       "14     7        casual   1245\n",
       "15     7        member  10314\n",
       "16     8        casual   2089\n",
       "17     8        member  15226\n",
       "18     9        casual   2384\n",
       "19     9        member  12548\n",
       "20    10        casual   3015\n",
       "21    10        member  10593\n",
       "22    11        casual   3642\n",
       "23    11        member  11005\n",
       "24    12        casual   4262\n",
       "25    12        member  12505\n",
       "26    13        casual   4639\n",
       "27    13        member  13297\n",
       "28    14        casual   4890\n",
       "29    14        member  14117\n",
       "30    15        casual   5391\n",
       "31    15        member  15418\n",
       "32    16        casual   5452\n",
       "33    16        member  17324\n",
       "34    17        casual   5708\n",
       "35    17        member  21127\n",
       "36    18        casual   5564\n",
       "37    18        member  20042\n",
       "38    19        casual   4412\n",
       "39    19        member  15129\n",
       "40    20        casual   3125\n",
       "41    20        member  10820\n",
       "42    21        casual   2391\n",
       "43    21        member   7849\n",
       "44    22        casual   2069\n",
       "45    22        member   6262\n",
       "46    23        casual   1723\n",
       "47    23        member   4602"
      ]
     },
     "execution_count": 289,
     "metadata": {},
     "output_type": "execute_result"
    }
   ],
   "source": [
    "hourly_df = \\\n",
    "(test\n",
    " .assign(hour = test[\"started_at\"].dt.hour)\n",
    " .groupby([\"hour\", \"member_casual\"])[\"ride_id\"].count().reset_index(name = \"trips\")\n",
    ")\n",
    "\n",
    "hourly_df"
   ]
  },
  {
   "cell_type": "code",
   "execution_count": 291,
   "id": "ed929179-6e5e-4d83-82eb-94fa1f78a4dd",
   "metadata": {},
   "outputs": [],
   "source": [
    "hourly_df.to_csv(\"Data/hourly_df.csv\", index = False)"
   ]
  },
  {
   "cell_type": "code",
   "execution_count": 293,
   "id": "a46d0a6e-059a-442c-99cb-fd3c24e0a174",
   "metadata": {},
   "outputs": [],
   "source": [
    "hourly_df = pd.read_csv(r\"Data\\hourly_df.csv\")"
   ]
  },
  {
   "cell_type": "code",
   "execution_count": 295,
   "id": "dc625c09-4222-46c4-bae9-8b883caf6bfe",
   "metadata": {
    "scrolled": true
   },
   "outputs": [
    {
     "data": {
      "text/html": [
       "<div>\n",
       "<style scoped>\n",
       "    .dataframe tbody tr th:only-of-type {\n",
       "        vertical-align: middle;\n",
       "    }\n",
       "\n",
       "    .dataframe tbody tr th {\n",
       "        vertical-align: top;\n",
       "    }\n",
       "\n",
       "    .dataframe thead th {\n",
       "        text-align: right;\n",
       "    }\n",
       "</style>\n",
       "<table border=\"1\" class=\"dataframe\">\n",
       "  <thead>\n",
       "    <tr style=\"text-align: right;\">\n",
       "      <th></th>\n",
       "      <th>hour</th>\n",
       "      <th>member_casual</th>\n",
       "      <th>trips</th>\n",
       "    </tr>\n",
       "  </thead>\n",
       "  <tbody>\n",
       "    <tr>\n",
       "      <th>0</th>\n",
       "      <td>0</td>\n",
       "      <td>casual</td>\n",
       "      <td>1281</td>\n",
       "    </tr>\n",
       "    <tr>\n",
       "      <th>1</th>\n",
       "      <td>0</td>\n",
       "      <td>member</td>\n",
       "      <td>2856</td>\n",
       "    </tr>\n",
       "    <tr>\n",
       "      <th>2</th>\n",
       "      <td>1</td>\n",
       "      <td>casual</td>\n",
       "      <td>857</td>\n",
       "    </tr>\n",
       "    <tr>\n",
       "      <th>3</th>\n",
       "      <td>1</td>\n",
       "      <td>member</td>\n",
       "      <td>1775</td>\n",
       "    </tr>\n",
       "    <tr>\n",
       "      <th>4</th>\n",
       "      <td>2</td>\n",
       "      <td>casual</td>\n",
       "      <td>530</td>\n",
       "    </tr>\n",
       "    <tr>\n",
       "      <th>5</th>\n",
       "      <td>2</td>\n",
       "      <td>member</td>\n",
       "      <td>1145</td>\n",
       "    </tr>\n",
       "    <tr>\n",
       "      <th>6</th>\n",
       "      <td>3</td>\n",
       "      <td>casual</td>\n",
       "      <td>333</td>\n",
       "    </tr>\n",
       "    <tr>\n",
       "      <th>7</th>\n",
       "      <td>3</td>\n",
       "      <td>member</td>\n",
       "      <td>749</td>\n",
       "    </tr>\n",
       "    <tr>\n",
       "      <th>8</th>\n",
       "      <td>4</td>\n",
       "      <td>casual</td>\n",
       "      <td>256</td>\n",
       "    </tr>\n",
       "    <tr>\n",
       "      <th>9</th>\n",
       "      <td>4</td>\n",
       "      <td>member</td>\n",
       "      <td>691</td>\n",
       "    </tr>\n",
       "    <tr>\n",
       "      <th>10</th>\n",
       "      <td>5</td>\n",
       "      <td>casual</td>\n",
       "      <td>265</td>\n",
       "    </tr>\n",
       "    <tr>\n",
       "      <th>11</th>\n",
       "      <td>5</td>\n",
       "      <td>member</td>\n",
       "      <td>1733</td>\n",
       "    </tr>\n",
       "    <tr>\n",
       "      <th>12</th>\n",
       "      <td>6</td>\n",
       "      <td>casual</td>\n",
       "      <td>653</td>\n",
       "    </tr>\n",
       "    <tr>\n",
       "      <th>13</th>\n",
       "      <td>6</td>\n",
       "      <td>member</td>\n",
       "      <td>5085</td>\n",
       "    </tr>\n",
       "    <tr>\n",
       "      <th>14</th>\n",
       "      <td>7</td>\n",
       "      <td>casual</td>\n",
       "      <td>1245</td>\n",
       "    </tr>\n",
       "    <tr>\n",
       "      <th>15</th>\n",
       "      <td>7</td>\n",
       "      <td>member</td>\n",
       "      <td>10314</td>\n",
       "    </tr>\n",
       "    <tr>\n",
       "      <th>16</th>\n",
       "      <td>8</td>\n",
       "      <td>casual</td>\n",
       "      <td>2089</td>\n",
       "    </tr>\n",
       "    <tr>\n",
       "      <th>17</th>\n",
       "      <td>8</td>\n",
       "      <td>member</td>\n",
       "      <td>15226</td>\n",
       "    </tr>\n",
       "    <tr>\n",
       "      <th>18</th>\n",
       "      <td>9</td>\n",
       "      <td>casual</td>\n",
       "      <td>2384</td>\n",
       "    </tr>\n",
       "    <tr>\n",
       "      <th>19</th>\n",
       "      <td>9</td>\n",
       "      <td>member</td>\n",
       "      <td>12548</td>\n",
       "    </tr>\n",
       "    <tr>\n",
       "      <th>20</th>\n",
       "      <td>10</td>\n",
       "      <td>casual</td>\n",
       "      <td>3015</td>\n",
       "    </tr>\n",
       "    <tr>\n",
       "      <th>21</th>\n",
       "      <td>10</td>\n",
       "      <td>member</td>\n",
       "      <td>10593</td>\n",
       "    </tr>\n",
       "    <tr>\n",
       "      <th>22</th>\n",
       "      <td>11</td>\n",
       "      <td>casual</td>\n",
       "      <td>3642</td>\n",
       "    </tr>\n",
       "    <tr>\n",
       "      <th>23</th>\n",
       "      <td>11</td>\n",
       "      <td>member</td>\n",
       "      <td>11005</td>\n",
       "    </tr>\n",
       "    <tr>\n",
       "      <th>24</th>\n",
       "      <td>12</td>\n",
       "      <td>casual</td>\n",
       "      <td>4262</td>\n",
       "    </tr>\n",
       "    <tr>\n",
       "      <th>25</th>\n",
       "      <td>12</td>\n",
       "      <td>member</td>\n",
       "      <td>12505</td>\n",
       "    </tr>\n",
       "    <tr>\n",
       "      <th>26</th>\n",
       "      <td>13</td>\n",
       "      <td>casual</td>\n",
       "      <td>4639</td>\n",
       "    </tr>\n",
       "    <tr>\n",
       "      <th>27</th>\n",
       "      <td>13</td>\n",
       "      <td>member</td>\n",
       "      <td>13297</td>\n",
       "    </tr>\n",
       "    <tr>\n",
       "      <th>28</th>\n",
       "      <td>14</td>\n",
       "      <td>casual</td>\n",
       "      <td>4890</td>\n",
       "    </tr>\n",
       "    <tr>\n",
       "      <th>29</th>\n",
       "      <td>14</td>\n",
       "      <td>member</td>\n",
       "      <td>14117</td>\n",
       "    </tr>\n",
       "    <tr>\n",
       "      <th>30</th>\n",
       "      <td>15</td>\n",
       "      <td>casual</td>\n",
       "      <td>5391</td>\n",
       "    </tr>\n",
       "    <tr>\n",
       "      <th>31</th>\n",
       "      <td>15</td>\n",
       "      <td>member</td>\n",
       "      <td>15418</td>\n",
       "    </tr>\n",
       "    <tr>\n",
       "      <th>32</th>\n",
       "      <td>16</td>\n",
       "      <td>casual</td>\n",
       "      <td>5452</td>\n",
       "    </tr>\n",
       "    <tr>\n",
       "      <th>33</th>\n",
       "      <td>16</td>\n",
       "      <td>member</td>\n",
       "      <td>17324</td>\n",
       "    </tr>\n",
       "    <tr>\n",
       "      <th>34</th>\n",
       "      <td>17</td>\n",
       "      <td>casual</td>\n",
       "      <td>5708</td>\n",
       "    </tr>\n",
       "    <tr>\n",
       "      <th>35</th>\n",
       "      <td>17</td>\n",
       "      <td>member</td>\n",
       "      <td>21127</td>\n",
       "    </tr>\n",
       "    <tr>\n",
       "      <th>36</th>\n",
       "      <td>18</td>\n",
       "      <td>casual</td>\n",
       "      <td>5564</td>\n",
       "    </tr>\n",
       "    <tr>\n",
       "      <th>37</th>\n",
       "      <td>18</td>\n",
       "      <td>member</td>\n",
       "      <td>20042</td>\n",
       "    </tr>\n",
       "    <tr>\n",
       "      <th>38</th>\n",
       "      <td>19</td>\n",
       "      <td>casual</td>\n",
       "      <td>4412</td>\n",
       "    </tr>\n",
       "    <tr>\n",
       "      <th>39</th>\n",
       "      <td>19</td>\n",
       "      <td>member</td>\n",
       "      <td>15129</td>\n",
       "    </tr>\n",
       "    <tr>\n",
       "      <th>40</th>\n",
       "      <td>20</td>\n",
       "      <td>casual</td>\n",
       "      <td>3125</td>\n",
       "    </tr>\n",
       "    <tr>\n",
       "      <th>41</th>\n",
       "      <td>20</td>\n",
       "      <td>member</td>\n",
       "      <td>10820</td>\n",
       "    </tr>\n",
       "    <tr>\n",
       "      <th>42</th>\n",
       "      <td>21</td>\n",
       "      <td>casual</td>\n",
       "      <td>2391</td>\n",
       "    </tr>\n",
       "    <tr>\n",
       "      <th>43</th>\n",
       "      <td>21</td>\n",
       "      <td>member</td>\n",
       "      <td>7849</td>\n",
       "    </tr>\n",
       "    <tr>\n",
       "      <th>44</th>\n",
       "      <td>22</td>\n",
       "      <td>casual</td>\n",
       "      <td>2069</td>\n",
       "    </tr>\n",
       "    <tr>\n",
       "      <th>45</th>\n",
       "      <td>22</td>\n",
       "      <td>member</td>\n",
       "      <td>6262</td>\n",
       "    </tr>\n",
       "    <tr>\n",
       "      <th>46</th>\n",
       "      <td>23</td>\n",
       "      <td>casual</td>\n",
       "      <td>1723</td>\n",
       "    </tr>\n",
       "    <tr>\n",
       "      <th>47</th>\n",
       "      <td>23</td>\n",
       "      <td>member</td>\n",
       "      <td>4602</td>\n",
       "    </tr>\n",
       "  </tbody>\n",
       "</table>\n",
       "</div>"
      ],
      "text/plain": [
       "    hour member_casual  trips\n",
       "0      0        casual   1281\n",
       "1      0        member   2856\n",
       "2      1        casual    857\n",
       "3      1        member   1775\n",
       "4      2        casual    530\n",
       "5      2        member   1145\n",
       "6      3        casual    333\n",
       "7      3        member    749\n",
       "8      4        casual    256\n",
       "9      4        member    691\n",
       "10     5        casual    265\n",
       "11     5        member   1733\n",
       "12     6        casual    653\n",
       "13     6        member   5085\n",
       "14     7        casual   1245\n",
       "15     7        member  10314\n",
       "16     8        casual   2089\n",
       "17     8        member  15226\n",
       "18     9        casual   2384\n",
       "19     9        member  12548\n",
       "20    10        casual   3015\n",
       "21    10        member  10593\n",
       "22    11        casual   3642\n",
       "23    11        member  11005\n",
       "24    12        casual   4262\n",
       "25    12        member  12505\n",
       "26    13        casual   4639\n",
       "27    13        member  13297\n",
       "28    14        casual   4890\n",
       "29    14        member  14117\n",
       "30    15        casual   5391\n",
       "31    15        member  15418\n",
       "32    16        casual   5452\n",
       "33    16        member  17324\n",
       "34    17        casual   5708\n",
       "35    17        member  21127\n",
       "36    18        casual   5564\n",
       "37    18        member  20042\n",
       "38    19        casual   4412\n",
       "39    19        member  15129\n",
       "40    20        casual   3125\n",
       "41    20        member  10820\n",
       "42    21        casual   2391\n",
       "43    21        member   7849\n",
       "44    22        casual   2069\n",
       "45    22        member   6262\n",
       "46    23        casual   1723\n",
       "47    23        member   4602"
      ]
     },
     "execution_count": 295,
     "metadata": {},
     "output_type": "execute_result"
    }
   ],
   "source": [
    "hourly_df"
   ]
  },
  {
   "cell_type": "code",
   "execution_count": 297,
   "id": "cbbdec32-a122-4c60-8804-512e17a32701",
   "metadata": {},
   "outputs": [
    {
     "data": {
      "application/vnd.plotly.v1+json": {
       "config": {
        "plotlyServerURL": "https://plot.ly"
       },
       "data": [
        {
         "hovertemplate": "=casual<br>Hour of Day=%{x}<br>Number of Trips=%{y}<extra></extra>",
         "legendgroup": "casual",
         "line": {
          "color": "goldenrod",
          "dash": "solid"
         },
         "marker": {
          "symbol": "circle"
         },
         "mode": "markers+lines",
         "name": "casual",
         "orientation": "v",
         "showlegend": true,
         "type": "scatter",
         "x": [
          0,
          1,
          2,
          3,
          4,
          5,
          6,
          7,
          8,
          9,
          10,
          11,
          12,
          13,
          14,
          15,
          16,
          17,
          18,
          19,
          20,
          21,
          22,
          23
         ],
         "xaxis": "x",
         "y": [
          1281,
          857,
          530,
          333,
          256,
          265,
          653,
          1245,
          2089,
          2384,
          3015,
          3642,
          4262,
          4639,
          4890,
          5391,
          5452,
          5708,
          5564,
          4412,
          3125,
          2391,
          2069,
          1723
         ],
         "yaxis": "y"
        },
        {
         "hovertemplate": "=member<br>Hour of Day=%{x}<br>Number of Trips=%{y}<extra></extra>",
         "legendgroup": "member",
         "line": {
          "color": "seagreen",
          "dash": "solid"
         },
         "marker": {
          "symbol": "circle"
         },
         "mode": "markers+lines",
         "name": "member",
         "orientation": "v",
         "showlegend": true,
         "type": "scatter",
         "x": [
          0,
          1,
          2,
          3,
          4,
          5,
          6,
          7,
          8,
          9,
          10,
          11,
          12,
          13,
          14,
          15,
          16,
          17,
          18,
          19,
          20,
          21,
          22,
          23
         ],
         "xaxis": "x",
         "y": [
          2856,
          1775,
          1145,
          749,
          691,
          1733,
          5085,
          10314,
          15226,
          12548,
          10593,
          11005,
          12505,
          13297,
          14117,
          15418,
          17324,
          21127,
          20042,
          15129,
          10820,
          7849,
          6262,
          4602
         ],
         "yaxis": "y"
        }
       ],
       "layout": {
        "annotations": [
         {
          "showarrow": false,
          "text": "Morning Rush",
          "x": 7,
          "xanchor": "left",
          "xref": "x",
          "y": 0,
          "yanchor": "bottom",
          "yref": "y domain"
         },
         {
          "showarrow": false,
          "text": "Evening Rush",
          "x": 16,
          "xanchor": "left",
          "xref": "x",
          "y": 0,
          "yanchor": "bottom",
          "yref": "y domain"
         }
        ],
        "height": 500,
        "legend": {
         "title": {
          "text": ""
         },
         "tracegroupgap": 0
        },
        "plot_bgcolor": "white",
        "shapes": [
         {
          "fillcolor": "orangered",
          "layer": "below",
          "line": {
           "width": 0
          },
          "opacity": 0.1,
          "type": "rect",
          "x0": 7,
          "x1": 9,
          "xref": "x",
          "y0": 0,
          "y1": 1,
          "yref": "y domain"
         },
         {
          "fillcolor": "navy",
          "layer": "below",
          "line": {
           "width": 0
          },
          "opacity": 0.1,
          "type": "rect",
          "x0": 16,
          "x1": 19,
          "xref": "x",
          "y0": 0,
          "y1": 1,
          "yref": "y domain"
         }
        ],
        "template": {
         "data": {
          "candlestick": [
           {
            "decreasing": {
             "line": {
              "color": "#000033"
             }
            },
            "increasing": {
             "line": {
              "color": "#000032"
             }
            },
            "type": "candlestick"
           }
          ],
          "contour": [
           {
            "colorscale": [
             [
              0,
              "#000011"
             ],
             [
              0.1111111111111111,
              "#000012"
             ],
             [
              0.2222222222222222,
              "#000013"
             ],
             [
              0.3333333333333333,
              "#000014"
             ],
             [
              0.4444444444444444,
              "#000015"
             ],
             [
              0.5555555555555556,
              "#000016"
             ],
             [
              0.6666666666666666,
              "#000017"
             ],
             [
              0.7777777777777778,
              "#000018"
             ],
             [
              0.8888888888888888,
              "#000019"
             ],
             [
              1,
              "#000020"
             ]
            ],
            "type": "contour"
           }
          ],
          "contourcarpet": [
           {
            "colorscale": [
             [
              0,
              "#000011"
             ],
             [
              0.1111111111111111,
              "#000012"
             ],
             [
              0.2222222222222222,
              "#000013"
             ],
             [
              0.3333333333333333,
              "#000014"
             ],
             [
              0.4444444444444444,
              "#000015"
             ],
             [
              0.5555555555555556,
              "#000016"
             ],
             [
              0.6666666666666666,
              "#000017"
             ],
             [
              0.7777777777777778,
              "#000018"
             ],
             [
              0.8888888888888888,
              "#000019"
             ],
             [
              1,
              "#000020"
             ]
            ],
            "type": "contourcarpet"
           }
          ],
          "heatmap": [
           {
            "colorscale": [
             [
              0,
              "#000011"
             ],
             [
              0.1111111111111111,
              "#000012"
             ],
             [
              0.2222222222222222,
              "#000013"
             ],
             [
              0.3333333333333333,
              "#000014"
             ],
             [
              0.4444444444444444,
              "#000015"
             ],
             [
              0.5555555555555556,
              "#000016"
             ],
             [
              0.6666666666666666,
              "#000017"
             ],
             [
              0.7777777777777778,
              "#000018"
             ],
             [
              0.8888888888888888,
              "#000019"
             ],
             [
              1,
              "#000020"
             ]
            ],
            "type": "heatmap"
           }
          ],
          "histogram2d": [
           {
            "colorscale": [
             [
              0,
              "#000011"
             ],
             [
              0.1111111111111111,
              "#000012"
             ],
             [
              0.2222222222222222,
              "#000013"
             ],
             [
              0.3333333333333333,
              "#000014"
             ],
             [
              0.4444444444444444,
              "#000015"
             ],
             [
              0.5555555555555556,
              "#000016"
             ],
             [
              0.6666666666666666,
              "#000017"
             ],
             [
              0.7777777777777778,
              "#000018"
             ],
             [
              0.8888888888888888,
              "#000019"
             ],
             [
              1,
              "#000020"
             ]
            ],
            "type": "histogram2d"
           }
          ],
          "icicle": [
           {
            "textfont": {
             "color": "white"
            },
            "type": "icicle"
           }
          ],
          "sankey": [
           {
            "textfont": {
             "color": "#000036"
            },
            "type": "sankey"
           }
          ],
          "scatter": [
           {
            "marker": {
             "line": {
              "width": 0
             }
            },
            "type": "scatter"
           }
          ],
          "table": [
           {
            "cells": {
             "fill": {
              "color": "#000038"
             },
             "font": {
              "color": "#000037"
             },
             "line": {
              "color": "#000039"
             }
            },
            "header": {
             "fill": {
              "color": "#000040"
             },
             "font": {
              "color": "#000036"
             },
             "line": {
              "color": "#000039"
             }
            },
            "type": "table"
           }
          ],
          "waterfall": [
           {
            "connector": {
             "line": {
              "color": "#000036",
              "width": 2
             }
            },
            "decreasing": {
             "marker": {
              "color": "#000033"
             }
            },
            "increasing": {
             "marker": {
              "color": "#000032"
             }
            },
            "totals": {
             "marker": {
              "color": "#000034"
             }
            },
            "type": "waterfall"
           }
          ]
         },
         "layout": {
          "coloraxis": {
           "colorscale": [
            [
             0,
             "#000011"
            ],
            [
             0.1111111111111111,
             "#000012"
            ],
            [
             0.2222222222222222,
             "#000013"
            ],
            [
             0.3333333333333333,
             "#000014"
            ],
            [
             0.4444444444444444,
             "#000015"
            ],
            [
             0.5555555555555556,
             "#000016"
            ],
            [
             0.6666666666666666,
             "#000017"
            ],
            [
             0.7777777777777778,
             "#000018"
            ],
            [
             0.8888888888888888,
             "#000019"
            ],
            [
             1,
             "#000020"
            ]
           ]
          },
          "colorscale": {
           "diverging": [
            [
             0,
             "#000021"
            ],
            [
             0.1,
             "#000022"
            ],
            [
             0.2,
             "#000023"
            ],
            [
             0.3,
             "#000024"
            ],
            [
             0.4,
             "#000025"
            ],
            [
             0.5,
             "#000026"
            ],
            [
             0.6,
             "#000027"
            ],
            [
             0.7,
             "#000028"
            ],
            [
             0.8,
             "#000029"
            ],
            [
             0.9,
             "#000030"
            ],
            [
             1,
             "#000031"
            ]
           ],
           "sequential": [
            [
             0,
             "#000011"
            ],
            [
             0.1111111111111111,
             "#000012"
            ],
            [
             0.2222222222222222,
             "#000013"
            ],
            [
             0.3333333333333333,
             "#000014"
            ],
            [
             0.4444444444444444,
             "#000015"
            ],
            [
             0.5555555555555556,
             "#000016"
            ],
            [
             0.6666666666666666,
             "#000017"
            ],
            [
             0.7777777777777778,
             "#000018"
            ],
            [
             0.8888888888888888,
             "#000019"
            ],
            [
             1,
             "#000020"
            ]
           ],
           "sequentialminus": [
            [
             0,
             "#000011"
            ],
            [
             0.1111111111111111,
             "#000012"
            ],
            [
             0.2222222222222222,
             "#000013"
            ],
            [
             0.3333333333333333,
             "#000014"
            ],
            [
             0.4444444444444444,
             "#000015"
            ],
            [
             0.5555555555555556,
             "#000016"
            ],
            [
             0.6666666666666666,
             "#000017"
            ],
            [
             0.7777777777777778,
             "#000018"
            ],
            [
             0.8888888888888888,
             "#000019"
            ],
            [
             1,
             "#000020"
            ]
           ]
          },
          "colorway": [
           "#000001",
           "#000002",
           "#000003",
           "#000004",
           "#000005",
           "#000006",
           "#000007",
           "#000008",
           "#000009",
           "#000010"
          ]
         }
        },
        "title": {
         "text": "Hourly Usage by Member Status"
        },
        "width": 900,
        "xaxis": {
         "anchor": "y",
         "domain": [
          0,
          1
         ],
         "dtick": 1,
         "range": [
          0,
          23
         ],
         "showgrid": false,
         "title": {
          "text": "Hour of Day"
         },
         "type": "linear"
        },
        "yaxis": {
         "anchor": "x",
         "autorange": true,
         "domain": [
          0,
          1
         ],
         "range": [
          -1213.5267379679144,
          22596.526737967914
         ],
         "showgrid": false,
         "title": {
          "text": "Number of Trips"
         },
         "type": "linear"
        }
       }
      },
      "image/png": "[encoded data removed]",
      "text/html": [
       "<div>                            <div id=\"14235ee6-d7e5-4a6f-8f36-cc09a0a75f74\" class=\"plotly-graph-div\" style=\"height:500px; width:900px;\"></div>            <script type=\"text/javascript\">                require([\"plotly\"], function(Plotly) {                    window.PLOTLYENV=window.PLOTLYENV || {};                                    if (document.getElementById(\"14235ee6-d7e5-4a6f-8f36-cc09a0a75f74\")) {                    Plotly.newPlot(                        \"14235ee6-d7e5-4a6f-8f36-cc09a0a75f74\",                        [{\"hovertemplate\":\"=casual<br>Hour of Day=%{x}<br>Number of Trips=%{y}<extra></extra>\",\"legendgroup\":\"casual\",\"line\":{\"color\":\"goldenrod\",\"dash\":\"solid\"},\"marker\":{\"symbol\":\"circle\"},\"mode\":\"markers+lines\",\"name\":\"casual\",\"orientation\":\"v\",\"showlegend\":true,\"x\":[0,1,2,3,4,5,6,7,8,9,10,11,12,13,14,15,16,17,18,19,20,21,22,23],\"xaxis\":\"x\",\"y\":[1281,857,530,333,256,265,653,1245,2089,2384,3015,3642,4262,4639,4890,5391,5452,5708,5564,4412,3125,2391,2069,1723],\"yaxis\":\"y\",\"type\":\"scatter\"},{\"hovertemplate\":\"=member<br>Hour of Day=%{x}<br>Number of Trips=%{y}<extra></extra>\",\"legendgroup\":\"member\",\"line\":{\"color\":\"seagreen\",\"dash\":\"solid\"},\"marker\":{\"symbol\":\"circle\"},\"mode\":\"markers+lines\",\"name\":\"member\",\"orientation\":\"v\",\"showlegend\":true,\"x\":[0,1,2,3,4,5,6,7,8,9,10,11,12,13,14,15,16,17,18,19,20,21,22,23],\"xaxis\":\"x\",\"y\":[2856,1775,1145,749,691,1733,5085,10314,15226,12548,10593,11005,12505,13297,14117,15418,17324,21127,20042,15129,10820,7849,6262,4602],\"yaxis\":\"y\",\"type\":\"scatter\"}],                        {\"template\":{\"data\":{\"candlestick\":[{\"decreasing\":{\"line\":{\"color\":\"#000033\"}},\"increasing\":{\"line\":{\"color\":\"#000032\"}},\"type\":\"candlestick\"}],\"contourcarpet\":[{\"colorscale\":[[0.0,\"#000011\"],[0.1111111111111111,\"#000012\"],[0.2222222222222222,\"#000013\"],[0.3333333333333333,\"#000014\"],[0.4444444444444444,\"#000015\"],[0.5555555555555556,\"#000016\"],[0.6666666666666666,\"#000017\"],[0.7777777777777778,\"#000018\"],[0.8888888888888888,\"#000019\"],[1.0,\"#000020\"]],\"type\":\"contourcarpet\"}],\"contour\":[{\"colorscale\":[[0.0,\"#000011\"],[0.1111111111111111,\"#000012\"],[0.2222222222222222,\"#000013\"],[0.3333333333333333,\"#000014\"],[0.4444444444444444,\"#000015\"],[0.5555555555555556,\"#000016\"],[0.6666666666666666,\"#000017\"],[0.7777777777777778,\"#000018\"],[0.8888888888888888,\"#000019\"],[1.0,\"#000020\"]],\"type\":\"contour\"}],\"heatmap\":[{\"colorscale\":[[0.0,\"#000011\"],[0.1111111111111111,\"#000012\"],[0.2222222222222222,\"#000013\"],[0.3333333333333333,\"#000014\"],[0.4444444444444444,\"#000015\"],[0.5555555555555556,\"#000016\"],[0.6666666666666666,\"#000017\"],[0.7777777777777778,\"#000018\"],[0.8888888888888888,\"#000019\"],[1.0,\"#000020\"]],\"type\":\"heatmap\"}],\"histogram2d\":[{\"colorscale\":[[0.0,\"#000011\"],[0.1111111111111111,\"#000012\"],[0.2222222222222222,\"#000013\"],[0.3333333333333333,\"#000014\"],[0.4444444444444444,\"#000015\"],[0.5555555555555556,\"#000016\"],[0.6666666666666666,\"#000017\"],[0.7777777777777778,\"#000018\"],[0.8888888888888888,\"#000019\"],[1.0,\"#000020\"]],\"type\":\"histogram2d\"}],\"icicle\":[{\"textfont\":{\"color\":\"white\"},\"type\":\"icicle\"}],\"sankey\":[{\"textfont\":{\"color\":\"#000036\"},\"type\":\"sankey\"}],\"scatter\":[{\"marker\":{\"line\":{\"width\":0}},\"type\":\"scatter\"}],\"table\":[{\"cells\":{\"fill\":{\"color\":\"#000038\"},\"font\":{\"color\":\"#000037\"},\"line\":{\"color\":\"#000039\"}},\"header\":{\"fill\":{\"color\":\"#000040\"},\"font\":{\"color\":\"#000036\"},\"line\":{\"color\":\"#000039\"}},\"type\":\"table\"}],\"waterfall\":[{\"connector\":{\"line\":{\"color\":\"#000036\",\"width\":2}},\"decreasing\":{\"marker\":{\"color\":\"#000033\"}},\"increasing\":{\"marker\":{\"color\":\"#000032\"}},\"totals\":{\"marker\":{\"color\":\"#000034\"}},\"type\":\"waterfall\"}]},\"layout\":{\"coloraxis\":{\"colorscale\":[[0.0,\"#000011\"],[0.1111111111111111,\"#000012\"],[0.2222222222222222,\"#000013\"],[0.3333333333333333,\"#000014\"],[0.4444444444444444,\"#000015\"],[0.5555555555555556,\"#000016\"],[0.6666666666666666,\"#000017\"],[0.7777777777777778,\"#000018\"],[0.8888888888888888,\"#000019\"],[1.0,\"#000020\"]]},\"colorscale\":{\"diverging\":[[0.0,\"#000021\"],[0.1,\"#000022\"],[0.2,\"#000023\"],[0.3,\"#000024\"],[0.4,\"#000025\"],[0.5,\"#000026\"],[0.6,\"#000027\"],[0.7,\"#000028\"],[0.8,\"#000029\"],[0.9,\"#000030\"],[1.0,\"#000031\"]],\"sequential\":[[0.0,\"#000011\"],[0.1111111111111111,\"#000012\"],[0.2222222222222222,\"#000013\"],[0.3333333333333333,\"#000014\"],[0.4444444444444444,\"#000015\"],[0.5555555555555556,\"#000016\"],[0.6666666666666666,\"#000017\"],[0.7777777777777778,\"#000018\"],[0.8888888888888888,\"#000019\"],[1.0,\"#000020\"]],\"sequentialminus\":[[0.0,\"#000011\"],[0.1111111111111111,\"#000012\"],[0.2222222222222222,\"#000013\"],[0.3333333333333333,\"#000014\"],[0.4444444444444444,\"#000015\"],[0.5555555555555556,\"#000016\"],[0.6666666666666666,\"#000017\"],[0.7777777777777778,\"#000018\"],[0.8888888888888888,\"#000019\"],[1.0,\"#000020\"]]},\"colorway\":[\"#000001\",\"#000002\",\"#000003\",\"#000004\",\"#000005\",\"#000006\",\"#000007\",\"#000008\",\"#000009\",\"#000010\"]}},\"xaxis\":{\"anchor\":\"y\",\"domain\":[0.0,1.0],\"title\":{\"text\":\"Hour of Day\"},\"dtick\":1,\"range\":[0,23],\"showgrid\":false},\"yaxis\":{\"anchor\":\"x\",\"domain\":[0.0,1.0],\"title\":{\"text\":\"Number of Trips\"},\"showgrid\":false},\"legend\":{\"title\":{\"text\":\"\"},\"tracegroupgap\":0},\"title\":{\"text\":\"Hourly Usage by Member Status\"},\"shapes\":[{\"fillcolor\":\"orangered\",\"layer\":\"below\",\"line\":{\"width\":0},\"opacity\":0.1,\"type\":\"rect\",\"x0\":7,\"x1\":9,\"xref\":\"x\",\"y0\":0,\"y1\":1,\"yref\":\"y domain\"},{\"fillcolor\":\"navy\",\"layer\":\"below\",\"line\":{\"width\":0},\"opacity\":0.1,\"type\":\"rect\",\"x0\":16,\"x1\":19,\"xref\":\"x\",\"y0\":0,\"y1\":1,\"yref\":\"y domain\"}],\"annotations\":[{\"showarrow\":false,\"text\":\"Morning Rush\",\"x\":7,\"xanchor\":\"left\",\"xref\":\"x\",\"y\":0,\"yanchor\":\"bottom\",\"yref\":\"y domain\"},{\"showarrow\":false,\"text\":\"Evening Rush\",\"x\":16,\"xanchor\":\"left\",\"xref\":\"x\",\"y\":0,\"yanchor\":\"bottom\",\"yref\":\"y domain\"}],\"plot_bgcolor\":\"white\",\"width\":900,\"height\":500},                        {\"responsive\": true}                    ).then(function(){\n",
       "                            \n",
       "var gd = document.getElementById('14235ee6-d7e5-4a6f-8f36-cc09a0a75f74');\n",
       "var x = new MutationObserver(function (mutations, observer) {{\n",
       "        var display = window.getComputedStyle(gd).display;\n",
       "        if (!display || display === 'none') {{\n",
       "            console.log([gd, 'removed!']);\n",
       "            Plotly.purge(gd);\n",
       "            observer.disconnect();\n",
       "        }}\n",
       "}});\n",
       "\n",
       "// Listen for the removal of the full notebook cells\n",
       "var notebookContainer = gd.closest('#notebook-container');\n",
       "if (notebookContainer) {{\n",
       "    x.observe(notebookContainer, {childList: true});\n",
       "}}\n",
       "\n",
       "// Listen for the clearing of the current output cell\n",
       "var outputEl = gd.closest('.output');\n",
       "if (outputEl) {{\n",
       "    x.observe(outputEl, {childList: true});\n",
       "}}\n",
       "\n",
       "                        })                };                });            </script>        </div>"
      ]
     },
     "metadata": {},
     "output_type": "display_data"
    }
   ],
   "source": [
    "fig = px.line(\n",
    "    hourly_df,\n",
    "    x = \"hour\", y = \"trips\", color = \"member_casual\",\n",
    "    markers = True,\n",
    "    title = \"Hourly Usage by Member Status\",\n",
    "    labels = {\"hour\": \"Hour of Day\", \"trips\": \"Number of Trips\", \"member_casual\": \"\"},\n",
    "    color_discrete_map = {\n",
    "        \"member\": \"seagreen\",   \n",
    "        \"casual\": \"goldenrod\"     \n",
    "    }\n",
    ")\n",
    "\n",
    "fig.add_vrect(\n",
    "    x0 = 7, x1 = 9, \n",
    "    fillcolor = \"orangered\", opacity = 0.1, \n",
    "    layer = \"below\", \n",
    "    line_width = 0, \n",
    "    annotation_text = \"Morning Rush\", annotation_position = \"bottom left\"\n",
    ")\n",
    "\n",
    "fig.add_vrect(\n",
    "    x0 = 16, x1 = 19, \n",
    "    fillcolor = \"navy\", opacity = 0.1, \n",
    "    layer = \"below\", \n",
    "    line_width = 0, \n",
    "    annotation_text = \"Evening Rush\", annotation_position = \"bottom left\"\n",
    ")\n",
    "\n",
    "fig.update_layout(\n",
    "    xaxis = dict(dtick = 1, range = [0,23], showgrid = False),\n",
    "    yaxis = dict(showgrid = False),\n",
    "    plot_bgcolor = \"white\",\n",
    "    width = 900,\n",
    "    height = 500\n",
    ")\n",
    "fig.show()"
   ]
  },
  {
   "cell_type": "markdown",
   "id": "09e43c27-7a48-4653-b396-ddded6ba93e8",
   "metadata": {},
   "source": [
    "### Seasonality"
   ]
  },
  {
   "cell_type": "code",
   "execution_count": null,
   "id": "23e04b20-065c-4674-906a-002f5448a9cb",
   "metadata": {},
   "outputs": [],
   "source": [
    "st.markdown(\"#### Citi Bike Analysis\")\n",
    "\n",
    "fig_2 = make_subplots(specs = [[{\"secondary_y\": True}]])\n",
    "\n",
    "# rental count Line\n",
    "fig_2.add_trace(\n",
    "    go.Scatter(\n",
    "        x = rentals_df[\"date\"],\n",
    "        y = rentals_df[\"trip_count_7davg\"],\n",
    "        name = \"Rentals\",\n",
    "        line = dict(color = \"darkcyan\")\n",
    "    ),\n",
    "    secondary_y = False\n",
    ")\n",
    "\n",
    "# temperature line\n",
    "fig_2.add_trace(\n",
    "    go.Scatter(\n",
    "        x = rentals_df[\"date\"],\n",
    "        y = rentals_df[\"avg_temp_7davg\"],\n",
    "        name = \"Temperature\",\n",
    "        line = dict(color = \"orangered\")\n",
    "    ),\n",
    "    secondary_y = True\n",
    ")\n",
    "\n",
    "# vertical rectangles for season\n",
    "season_shades = [\n",
    "    {\"season\": \"Winter\", \"start\": \"2022-01-01\", \"end\": \"2022-02-28\", \"color\": \"LightSkyBlue\"},\n",
    "    {\"season\": \"Spring\", \"start\": \"2022-03-01\", \"end\": \"2022-05-31\", \"color\": \"MediumSeaGreen\"},\n",
    "    {\"season\": \"Summer\", \"start\": \"2022-06-01\", \"end\": \"2022-08-31\", \"color\": \"DarkOrange\"},\n",
    "    {\"season\": \"Fall\",   \"start\": \"2022-09-01\", \"end\": \"2022-11-30\", \"color\": \"Gold\"},\n",
    "    {\"season\": \"Winter\", \"start\": \"2022-12-01\", \"end\": \"2022-12-31\", \"color\": \"LightSkyBlue\"},\n",
    "]\n",
    "\n",
    "for s in season_shades:\n",
    "    fig_2.add_vrect(\n",
    "        x0 = s[\"start\"], x1 = s[\"end\"],\n",
    "        fillcolor = s[\"color\"],\n",
    "        opacity = 0.1,\n",
    "        line_width = 0,\n",
    "        layer = \"below\",\n",
    "        annotation_text = s[\"season\"],\n",
    "        annotation_position = \"bottom left\",\n",
    "        annotation_font_size = 8,\n",
    "    )\n",
    "\n",
    "fig_2.update_layout(\n",
    "    title = \"Bike Rentals vs Temperature (7-Day Average)\",\n",
    "    height = 600,\n",
    "    # xaxis_title = \"Date\",\n",
    "    yaxis_title = \"Rental Count\",\n",
    "    yaxis2_title = \"Temperature (°C)\",\n",
    "    legend = dict(orientation = \"h\", y = 1.1),\n",
    ")\n",
    "\n",
    "st.plotly_chart(fig_2, use_container_width = True)"
   ]
  },
  {
   "cell_type": "markdown",
   "id": "d496482c-2cdd-4b1a-948e-e3dccf99fb60",
   "metadata": {},
   "source": [
    "## Station Performance"
   ]
  },
  {
   "cell_type": "markdown",
   "id": "8a5c3b98-3ba1-46f6-babf-4d3241c041b1",
   "metadata": {},
   "source": [
    "Bar Chart - Top Stations\n",
    "Imbalance index - are some stations used more as start only/end only or more self sufficient (round trip)\n",
    "NYC has x number of stations\n",
    "\n",
    "1 bar charts - Toggle: Top 20 start, top 20 end, Top start + end, Top Roundtrip\n",
    "2 diverging bar charts - Imbalanced stations\n",
    "1 bar charts - top balanced stations"
   ]
  },
  {
   "cell_type": "code",
   "execution_count": 11,
   "id": "d35396cd-00e0-49e1-a9c9-976dc97516fe",
   "metadata": {},
   "outputs": [],
   "source": [
    "station_df = data.loc[:,[\"start_station_name\", \"end_station_name\"]]"
   ]
  },
  {
   "cell_type": "code",
   "execution_count": 20,
   "id": "2fa6a4f7-8073-470b-871e-1e187fb0594e",
   "metadata": {},
   "outputs": [],
   "source": [
    "top_station_df = \\\n",
    "(pd.concat([\n",
    "    station_df[\"start_station_name\"].value_counts().rename(\"departures\"),\n",
    "    station_df[\"end_station_name\"].value_counts().rename(\"arrivals\"),\n",
    "    station_df[station_df[\"start_station_name\"] == station_df[\"end_station_name\"]][\"start_station_name\"].value_counts().rename(\"round_trips\")],\n",
    "          axis = 1\n",
    "         )\n",
    " .fillna(0)\n",
    " .assign(\n",
    "     total_volume = lambda df: df[\"departures\"] + df[\"arrivals\"],\n",
    "     imbalance_over = lambda df: df[\"departures\"] - df[\"arrivals\"], # stations that may be over supplied\n",
    "     imbalance_under = lambda df: df[\"arrivals\"] - df[\"departures\"],\n",
    "     imbalance_over_ratio = lambda df: np.where(df[\"total_volume\"] > 100, # filter out stations with very low traffic & avoid dividing by 0\n",
    "                                                df[\"imbalance_over\"] / df[\"total_volume\"],\n",
    "                                                0),\n",
    "     imbalance_under_ratio = lambda df: np.where(df[\"total_volume\"] > 100, # filter out stations with very low traffic & avoid dividing by 0,\n",
    "                                                 df[\"imbalance_under\"] / df[\"total_volume\"],\n",
    "                                                 0),\n",
    " )\n",
    " .reset_index(names = \"station\")\n",
    ")"
   ]
  },
  {
   "cell_type": "code",
   "execution_count": 21,
   "id": "bf791986-3096-4ff4-9ad0-94d5927c2259",
   "metadata": {
    "scrolled": true
   },
   "outputs": [
    {
     "data": {
      "text/html": [
       "<div>\n",
       "<style scoped>\n",
       "    .dataframe tbody tr th:only-of-type {\n",
       "        vertical-align: middle;\n",
       "    }\n",
       "\n",
       "    .dataframe tbody tr th {\n",
       "        vertical-align: top;\n",
       "    }\n",
       "\n",
       "    .dataframe thead th {\n",
       "        text-align: right;\n",
       "    }\n",
       "</style>\n",
       "<table border=\"1\" class=\"dataframe\">\n",
       "  <thead>\n",
       "    <tr style=\"text-align: right;\">\n",
       "      <th></th>\n",
       "      <th>station</th>\n",
       "      <th>departures</th>\n",
       "      <th>arrivals</th>\n",
       "      <th>round_trips</th>\n",
       "      <th>total_volume</th>\n",
       "      <th>imbalance_over</th>\n",
       "      <th>imbalance_under</th>\n",
       "      <th>imbalance_over_ratio</th>\n",
       "      <th>imbalance_under_ratio</th>\n",
       "    </tr>\n",
       "  </thead>\n",
       "  <tbody>\n",
       "    <tr>\n",
       "      <th>0</th>\n",
       "      <td>W 21 St &amp; 6 Ave</td>\n",
       "      <td>129018.0</td>\n",
       "      <td>130178.0</td>\n",
       "      <td>1746.0</td>\n",
       "      <td>259196.0</td>\n",
       "      <td>-1160.0</td>\n",
       "      <td>1160.0</td>\n",
       "      <td>-0.004475</td>\n",
       "      <td>0.004475</td>\n",
       "    </tr>\n",
       "    <tr>\n",
       "      <th>1</th>\n",
       "      <td>West St &amp; Chambers St</td>\n",
       "      <td>123291.0</td>\n",
       "      <td>124336.0</td>\n",
       "      <td>4768.0</td>\n",
       "      <td>247627.0</td>\n",
       "      <td>-1045.0</td>\n",
       "      <td>1045.0</td>\n",
       "      <td>-0.004220</td>\n",
       "      <td>0.004220</td>\n",
       "    </tr>\n",
       "    <tr>\n",
       "      <th>2</th>\n",
       "      <td>Broadway &amp; W 58 St</td>\n",
       "      <td>114293.0</td>\n",
       "      <td>110313.0</td>\n",
       "      <td>5509.0</td>\n",
       "      <td>224606.0</td>\n",
       "      <td>3980.0</td>\n",
       "      <td>-3980.0</td>\n",
       "      <td>0.017720</td>\n",
       "      <td>-0.017720</td>\n",
       "    </tr>\n",
       "    <tr>\n",
       "      <th>3</th>\n",
       "      <td>6 Ave &amp; W 33 St</td>\n",
       "      <td>106445.0</td>\n",
       "      <td>104937.0</td>\n",
       "      <td>1475.0</td>\n",
       "      <td>211382.0</td>\n",
       "      <td>1508.0</td>\n",
       "      <td>-1508.0</td>\n",
       "      <td>0.007134</td>\n",
       "      <td>-0.007134</td>\n",
       "    </tr>\n",
       "    <tr>\n",
       "      <th>4</th>\n",
       "      <td>1 Ave &amp; E 68 St</td>\n",
       "      <td>104856.0</td>\n",
       "      <td>105121.0</td>\n",
       "      <td>1784.0</td>\n",
       "      <td>209977.0</td>\n",
       "      <td>-265.0</td>\n",
       "      <td>265.0</td>\n",
       "      <td>-0.001262</td>\n",
       "      <td>0.001262</td>\n",
       "    </tr>\n",
       "    <tr>\n",
       "      <th>...</th>\n",
       "      <td>...</td>\n",
       "      <td>...</td>\n",
       "      <td>...</td>\n",
       "      <td>...</td>\n",
       "      <td>...</td>\n",
       "      <td>...</td>\n",
       "      <td>...</td>\n",
       "      <td>...</td>\n",
       "      <td>...</td>\n",
       "    </tr>\n",
       "    <tr>\n",
       "      <th>1837</th>\n",
       "      <td>7 St &amp; Monroe St</td>\n",
       "      <td>0.0</td>\n",
       "      <td>1.0</td>\n",
       "      <td>0.0</td>\n",
       "      <td>1.0</td>\n",
       "      <td>-1.0</td>\n",
       "      <td>1.0</td>\n",
       "      <td>0.000000</td>\n",
       "      <td>0.000000</td>\n",
       "    </tr>\n",
       "    <tr>\n",
       "      <th>1838</th>\n",
       "      <td>City Hall - Washington St &amp; 1 St</td>\n",
       "      <td>0.0</td>\n",
       "      <td>1.0</td>\n",
       "      <td>0.0</td>\n",
       "      <td>1.0</td>\n",
       "      <td>-1.0</td>\n",
       "      <td>1.0</td>\n",
       "      <td>0.000000</td>\n",
       "      <td>0.000000</td>\n",
       "    </tr>\n",
       "    <tr>\n",
       "      <th>1839</th>\n",
       "      <td>Apache</td>\n",
       "      <td>0.0</td>\n",
       "      <td>1.0</td>\n",
       "      <td>0.0</td>\n",
       "      <td>1.0</td>\n",
       "      <td>-1.0</td>\n",
       "      <td>1.0</td>\n",
       "      <td>0.000000</td>\n",
       "      <td>0.000000</td>\n",
       "    </tr>\n",
       "    <tr>\n",
       "      <th>1840</th>\n",
       "      <td>Southwest Park - Jackson St &amp; Observer Hwy</td>\n",
       "      <td>0.0</td>\n",
       "      <td>1.0</td>\n",
       "      <td>0.0</td>\n",
       "      <td>1.0</td>\n",
       "      <td>-1.0</td>\n",
       "      <td>1.0</td>\n",
       "      <td>0.000000</td>\n",
       "      <td>0.000000</td>\n",
       "    </tr>\n",
       "    <tr>\n",
       "      <th>1841</th>\n",
       "      <td>Hoboken Ave at Monmouth St</td>\n",
       "      <td>0.0</td>\n",
       "      <td>1.0</td>\n",
       "      <td>0.0</td>\n",
       "      <td>1.0</td>\n",
       "      <td>-1.0</td>\n",
       "      <td>1.0</td>\n",
       "      <td>0.000000</td>\n",
       "      <td>0.000000</td>\n",
       "    </tr>\n",
       "  </tbody>\n",
       "</table>\n",
       "<p>1842 rows × 9 columns</p>\n",
       "</div>"
      ],
      "text/plain": [
       "                                         station  departures  arrivals  \\\n",
       "0                                W 21 St & 6 Ave    129018.0  130178.0   \n",
       "1                          West St & Chambers St    123291.0  124336.0   \n",
       "2                             Broadway & W 58 St    114293.0  110313.0   \n",
       "3                                6 Ave & W 33 St    106445.0  104937.0   \n",
       "4                                1 Ave & E 68 St    104856.0  105121.0   \n",
       "...                                          ...         ...       ...   \n",
       "1837                            7 St & Monroe St         0.0       1.0   \n",
       "1838            City Hall - Washington St & 1 St         0.0       1.0   \n",
       "1839                                      Apache         0.0       1.0   \n",
       "1840  Southwest Park - Jackson St & Observer Hwy         0.0       1.0   \n",
       "1841                  Hoboken Ave at Monmouth St         0.0       1.0   \n",
       "\n",
       "      round_trips  total_volume  imbalance_over  imbalance_under  \\\n",
       "0          1746.0      259196.0         -1160.0           1160.0   \n",
       "1          4768.0      247627.0         -1045.0           1045.0   \n",
       "2          5509.0      224606.0          3980.0          -3980.0   \n",
       "3          1475.0      211382.0          1508.0          -1508.0   \n",
       "4          1784.0      209977.0          -265.0            265.0   \n",
       "...           ...           ...             ...              ...   \n",
       "1837          0.0           1.0            -1.0              1.0   \n",
       "1838          0.0           1.0            -1.0              1.0   \n",
       "1839          0.0           1.0            -1.0              1.0   \n",
       "1840          0.0           1.0            -1.0              1.0   \n",
       "1841          0.0           1.0            -1.0              1.0   \n",
       "\n",
       "      imbalance_over_ratio  imbalance_under_ratio  \n",
       "0                -0.004475               0.004475  \n",
       "1                -0.004220               0.004220  \n",
       "2                 0.017720              -0.017720  \n",
       "3                 0.007134              -0.007134  \n",
       "4                -0.001262               0.001262  \n",
       "...                    ...                    ...  \n",
       "1837              0.000000               0.000000  \n",
       "1838              0.000000               0.000000  \n",
       "1839              0.000000               0.000000  \n",
       "1840              0.000000               0.000000  \n",
       "1841              0.000000               0.000000  \n",
       "\n",
       "[1842 rows x 9 columns]"
      ]
     },
     "execution_count": 21,
     "metadata": {},
     "output_type": "execute_result"
    }
   ],
   "source": [
    "top_station_df"
   ]
  },
  {
   "cell_type": "code",
   "execution_count": 24,
   "id": "756ca515-29a2-488f-a81c-891fa077728b",
   "metadata": {},
   "outputs": [],
   "source": [
    "top_station_df.to_csv(\"Data/top_station_df.csv\", index = False)"
   ]
  },
  {
   "cell_type": "markdown",
   "id": "74f63250-b22d-4028-a056-8a22d3f3a664",
   "metadata": {},
   "source": [
    "## Map"
   ]
  },
  {
   "cell_type": "markdown",
   "id": "4b78fb5c-901c-448b-b8b6-322166e12667",
   "metadata": {},
   "source": [
    "## Cluster Analysis"
   ]
  },
  {
   "cell_type": "code",
   "execution_count": null,
   "id": "bbe8e14d-c437-43f7-bd0e-9f483160ec41",
   "metadata": {},
   "outputs": [],
   "source": []
  }
 ],
 "metadata": {
  "kernelspec": {
   "display_name": "Python [conda env:base] *",
   "language": "python",
   "name": "conda-base-py"
  },
  "language_info": {
   "codemirror_mode": {
    "name": "ipython",
    "version": 3
   },
   "file_extension": ".py",
   "mimetype": "text/x-python",
   "name": "python",
   "nbconvert_exporter": "python",
   "pygments_lexer": "ipython3",
   "version": "3.11.7"
  }
 },
 "nbformat": 4,
 "nbformat_minor": 5
}
